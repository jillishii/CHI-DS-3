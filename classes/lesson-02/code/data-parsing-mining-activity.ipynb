{
 "cells": [
  {
   "cell_type": "markdown",
   "metadata": {},
   "source": [
    "## Pandas | Data Parsing and Mining"
   ]
  },
  {
   "cell_type": "markdown",
   "metadata": {},
   "source": [
    "#### Start out by importing the pandas library, and we'll tell Python that we're referring to it as \"pd\" (for the sake of brevity)"
   ]
  },
  {
   "cell_type": "code",
<<<<<<< Updated upstream
   "execution_count": 2,
=======
   "execution_count": 1,
>>>>>>> Stashed changes
   "metadata": {
    "collapsed": true
   },
   "outputs": [],
   "source": [
    "import pandas as pd"
   ]
  },
  {
   "cell_type": "markdown",
   "metadata": {},
   "source": [
    "#### Read in a CSV file into a pandas dataframe we'll call \"df\"\n",
    "#### The csv reading function assumes that each person is on a new line, that the variable names are at the top of the file, and all entries are separated by a column"
   ]
  },
  {
   "cell_type": "code",
<<<<<<< Updated upstream
   "execution_count": 35,
=======
   "execution_count": 2,
>>>>>>> Stashed changes
   "metadata": {
    "collapsed": false
   },
   "outputs": [
    {
     "name": "stdout",
     "output_type": "stream",
     "text": [
      "     survived  pclass                                               name  \\\n",
      "0           0       3                            Braund, Mr. Owen Harris   \n",
      "1           1       1  Cumings, Mrs. John Bradley (Florence Briggs Th...   \n",
      "2           1       3                             Heikkinen, Miss. Laina   \n",
      "3           1       1       Futrelle, Mrs. Jacques Heath (Lily May Peel)   \n",
      "4           0       3                           Allen, Mr. William Henry   \n",
      "5           0       3                                   Moran, Mr. James   \n",
      "6           0       1                            McCarthy, Mr. Timothy J   \n",
      "7           0       3                     Palsson, Master. Gosta Leonard   \n",
      "8           1       3  Johnson, Mrs. Oscar W (Elisabeth Vilhelmina Berg)   \n",
      "9           1       2                Nasser, Mrs. Nicholas (Adele Achem)   \n",
      "10          1       3                    Sandstrom, Miss. Marguerite Rut   \n",
      "11          1       1                           Bonnell, Miss. Elizabeth   \n",
      "12          0       3                     Saundercock, Mr. William Henry   \n",
      "13          0       3                        Andersson, Mr. Anders Johan   \n",
      "14          0       3               Vestrom, Miss. Hulda Amanda Adolfina   \n",
      "15          1       2                   Hewlett, Mrs. (Mary D Kingcome)    \n",
      "16          0       3                               Rice, Master. Eugene   \n",
      "17          1       2                       Williams, Mr. Charles Eugene   \n",
      "18          0       3  Vander Planke, Mrs. Julius (Emelia Maria Vande...   \n",
      "19          1       3                            Masselmani, Mrs. Fatima   \n",
      "20          0       2                               Fynney, Mr. Joseph J   \n",
      "21          1       2                              Beesley, Mr. Lawrence   \n",
      "22          1       3                        McGowan, Miss. Anna \"Annie\"   \n",
      "23          1       1                       Sloper, Mr. William Thompson   \n",
      "24          0       3                      Palsson, Miss. Torborg Danira   \n",
      "25          1       3  Asplund, Mrs. Carl Oscar (Selma Augusta Emilia...   \n",
      "26          0       3                            Emir, Mr. Farred Chehab   \n",
      "27          0       1                     Fortune, Mr. Charles Alexander   \n",
      "28          1       3                      O'Dwyer, Miss. Ellen \"Nellie\"   \n",
      "29          0       3                                Todoroff, Mr. Lalio   \n",
      "..        ...     ...                                                ...   \n",
      "861         0       2                        Giles, Mr. Frederick Edward   \n",
      "862         1       1  Swift, Mrs. Frederick Joel (Margaret Welles Ba...   \n",
      "863         0       3                  Sage, Miss. Dorothy Edith \"Dolly\"   \n",
      "864         0       2                             Gill, Mr. John William   \n",
      "865         1       2                           Bystrom, Mrs. (Karolina)   \n",
      "866         1       2                       Duran y More, Miss. Asuncion   \n",
      "867         0       1               Roebling, Mr. Washington Augustus II   \n",
      "868         0       3                        van Melkebeke, Mr. Philemon   \n",
      "869         1       3                    Johnson, Master. Harold Theodor   \n",
      "870         0       3                                  Balkic, Mr. Cerin   \n",
      "871         1       1   Beckwith, Mrs. Richard Leonard (Sallie Monypeny)   \n",
      "872         0       1                           Carlsson, Mr. Frans Olof   \n",
      "873         0       3                        Vander Cruyssen, Mr. Victor   \n",
      "874         1       2              Abelson, Mrs. Samuel (Hannah Wizosky)   \n",
      "875         1       3                   Najib, Miss. Adele Kiamie \"Jane\"   \n",
      "876         0       3                      Gustafsson, Mr. Alfred Ossian   \n",
      "877         0       3                               Petroff, Mr. Nedelio   \n",
      "878         0       3                                 Laleff, Mr. Kristo   \n",
      "879         1       1      Potter, Mrs. Thomas Jr (Lily Alexenia Wilson)   \n",
      "880         1       2       Shelley, Mrs. William (Imanita Parrish Hall)   \n",
      "881         0       3                                 Markun, Mr. Johann   \n",
      "882         0       3                       Dahlberg, Miss. Gerda Ulrika   \n",
      "883         0       2                      Banfield, Mr. Frederick James   \n",
      "884         0       3                             Sutehall, Mr. Henry Jr   \n",
      "885         0       3               Rice, Mrs. William (Margaret Norton)   \n",
      "886         0       2                              Montvila, Rev. Juozas   \n",
      "887         1       1                       Graham, Miss. Margaret Edith   \n",
      "888         0       3           Johnston, Miss. Catherine Helen \"Carrie\"   \n",
      "889         1       1                              Behr, Mr. Karl Howell   \n",
      "890         0       3                                Dooley, Mr. Patrick   \n",
      "\n",
      "        sex   age  sibsp  parch            ticket      fare        cabin  \\\n",
      "0      male  22.0      1      0         A/5 21171    7.2500          NaN   \n",
      "1    female  38.0      1      0          PC 17599   71.2833          C85   \n",
      "2    female  26.0      0      0  STON/O2. 3101282    7.9250          NaN   \n",
      "3    female  35.0      1      0            113803   53.1000         C123   \n",
      "4      male  35.0      0      0            373450    8.0500          NaN   \n",
      "5      male   NaN      0      0            330877    8.4583          NaN   \n",
      "6      male  54.0      0      0             17463   51.8625          E46   \n",
      "7      male   2.0      3      1            349909   21.0750          NaN   \n",
      "8    female  27.0      0      2            347742   11.1333          NaN   \n",
      "9    female  14.0      1      0            237736   30.0708          NaN   \n",
      "10   female   4.0      1      1           PP 9549   16.7000           G6   \n",
      "11   female  58.0      0      0            113783   26.5500         C103   \n",
      "12     male  20.0      0      0         A/5. 2151    8.0500          NaN   \n",
      "13     male  39.0      1      5            347082   31.2750          NaN   \n",
      "14   female  14.0      0      0            350406    7.8542          NaN   \n",
      "15   female  55.0      0      0            248706   16.0000          NaN   \n",
      "16     male   2.0      4      1            382652   29.1250          NaN   \n",
      "17     male   NaN      0      0            244373   13.0000          NaN   \n",
      "18   female  31.0      1      0            345763   18.0000          NaN   \n",
      "19   female   NaN      0      0              2649    7.2250          NaN   \n",
      "20     male  35.0      0      0            239865   26.0000          NaN   \n",
      "21     male  34.0      0      0            248698   13.0000          D56   \n",
      "22   female  15.0      0      0            330923    8.0292          NaN   \n",
      "23     male  28.0      0      0            113788   35.5000           A6   \n",
      "24   female   8.0      3      1            349909   21.0750          NaN   \n",
      "25   female  38.0      1      5            347077   31.3875          NaN   \n",
      "26     male   NaN      0      0              2631    7.2250          NaN   \n",
      "27     male  19.0      3      2             19950  263.0000  C23 C25 C27   \n",
      "28   female   NaN      0      0            330959    7.8792          NaN   \n",
      "29     male   NaN      0      0            349216    7.8958          NaN   \n",
      "..      ...   ...    ...    ...               ...       ...          ...   \n",
      "861    male  21.0      1      0             28134   11.5000          NaN   \n",
      "862  female  48.0      0      0             17466   25.9292          D17   \n",
      "863  female   NaN      8      2          CA. 2343   69.5500          NaN   \n",
      "864    male  24.0      0      0            233866   13.0000          NaN   \n",
      "865  female  42.0      0      0            236852   13.0000          NaN   \n",
      "866  female  27.0      1      0     SC/PARIS 2149   13.8583          NaN   \n",
      "867    male  31.0      0      0          PC 17590   50.4958          A24   \n",
      "868    male   NaN      0      0            345777    9.5000          NaN   \n",
      "869    male   4.0      1      1            347742   11.1333          NaN   \n",
      "870    male  26.0      0      0            349248    7.8958          NaN   \n",
      "871  female  47.0      1      1             11751   52.5542          D35   \n",
      "872    male  33.0      0      0               695    5.0000  B51 B53 B55   \n",
      "873    male  47.0      0      0            345765    9.0000          NaN   \n",
      "874  female  28.0      1      0         P/PP 3381   24.0000          NaN   \n",
      "875  female  15.0      0      0              2667    7.2250          NaN   \n",
      "876    male  20.0      0      0              7534    9.8458          NaN   \n",
      "877    male  19.0      0      0            349212    7.8958          NaN   \n",
      "878    male   NaN      0      0            349217    7.8958          NaN   \n",
      "879  female  56.0      0      1             11767   83.1583          C50   \n",
      "880  female  25.0      0      1            230433   26.0000          NaN   \n",
      "881    male  33.0      0      0            349257    7.8958          NaN   \n",
      "882  female  22.0      0      0              7552   10.5167          NaN   \n",
      "883    male  28.0      0      0  C.A./SOTON 34068   10.5000          NaN   \n",
      "884    male  25.0      0      0   SOTON/OQ 392076    7.0500          NaN   \n",
      "885  female  39.0      0      5            382652   29.1250          NaN   \n",
      "886    male  27.0      0      0            211536   13.0000          NaN   \n",
      "887  female  19.0      0      0            112053   30.0000          B42   \n",
      "888  female   NaN      1      2        W./C. 6607   23.4500          NaN   \n",
      "889    male  26.0      0      0            111369   30.0000         C148   \n",
      "890    male  32.0      0      0            370376    7.7500          NaN   \n",
      "\n",
      "    embarked  \n",
      "0          S  \n",
      "1          C  \n",
      "2          S  \n",
      "3          S  \n",
      "4          S  \n",
      "5          Q  \n",
      "6          S  \n",
      "7          S  \n",
      "8          S  \n",
      "9          C  \n",
      "10         S  \n",
      "11         S  \n",
      "12         S  \n",
      "13         S  \n",
      "14         S  \n",
      "15         S  \n",
      "16         Q  \n",
      "17         S  \n",
      "18         S  \n",
      "19         C  \n",
      "20         S  \n",
      "21         S  \n",
      "22         Q  \n",
      "23         S  \n",
      "24         S  \n",
      "25         S  \n",
      "26         C  \n",
      "27         S  \n",
      "28         Q  \n",
      "29         S  \n",
      "..       ...  \n",
      "861        S  \n",
      "862        S  \n",
      "863        S  \n",
      "864        S  \n",
      "865        S  \n",
      "866        C  \n",
      "867        S  \n",
      "868        S  \n",
      "869        S  \n",
      "870        S  \n",
      "871        S  \n",
      "872        S  \n",
      "873        S  \n",
      "874        C  \n",
      "875        C  \n",
      "876        S  \n",
      "877        S  \n",
      "878        S  \n",
      "879        C  \n",
      "880        S  \n",
      "881        S  \n",
      "882        S  \n",
      "883        S  \n",
      "884        S  \n",
      "885        Q  \n",
      "886        S  \n",
      "887        S  \n",
      "888        S  \n",
      "889        C  \n",
      "890        Q  \n",
      "\n",
      "[891 rows x 11 columns]\n"
     ]
    }
   ],
   "source": [
    "df = pd.read_csv('../dataset/titanic.csv')\n",
    "print df"
   ]
  },
  {
   "cell_type": "markdown",
   "metadata": {},
   "source": [
    "#### You can view the variable/column names"
   ]
  },
  {
   "cell_type": "code",
<<<<<<< Updated upstream
   "execution_count": 15,
=======
   "execution_count": 3,
>>>>>>> Stashed changes
   "metadata": {
    "collapsed": false
   },
   "outputs": [
    {
     "data": {
      "text/plain": [
       "['survived',\n",
       " 'pclass',\n",
       " 'name',\n",
       " 'sex',\n",
       " 'age',\n",
       " 'sibsp',\n",
       " 'parch',\n",
       " 'ticket',\n",
       " 'fare',\n",
       " 'cabin',\n",
<<<<<<< Updated upstream
       " 'embarked',\n",
       " 'age_recode']"
      ]
     },
     "execution_count": 15,
=======
       " 'embarked']"
      ]
     },
     "execution_count": 3,
>>>>>>> Stashed changes
     "metadata": {},
     "output_type": "execute_result"
    }
   ],
   "source": [
    "list(df.columns.values)"
   ]
  },
  {
   "cell_type": "markdown",
   "metadata": {},
   "source": [
    "#### You can view how many data entries/cases there are"
   ]
  },
  {
   "cell_type": "code",
<<<<<<< Updated upstream
   "execution_count": 6,
=======
   "execution_count": 4,
>>>>>>> Stashed changes
   "metadata": {
    "collapsed": false
   },
   "outputs": [
    {
     "name": "stdout",
     "output_type": "stream",
     "text": [
      "891\n"
     ]
    }
   ],
   "source": [
    "print len(df.index)"
   ]
  },
  {
   "cell_type": "markdown",
   "metadata": {},
   "source": [
    "#### You can access a specific column/variable using brackets and the column name in quotations"
   ]
  },
  {
   "cell_type": "code",
<<<<<<< Updated upstream
   "execution_count": 7,
=======
   "execution_count": 5,
>>>>>>> Stashed changes
   "metadata": {
    "collapsed": false
   },
   "outputs": [
    {
     "name": "stdout",
     "output_type": "stream",
     "text": [
      "0        male\n",
      "1      female\n",
      "2      female\n",
      "3      female\n",
      "4        male\n",
      "5        male\n",
      "6        male\n",
      "7        male\n",
      "8      female\n",
      "9      female\n",
      "10     female\n",
      "11     female\n",
      "12       male\n",
      "13       male\n",
      "14     female\n",
      "15     female\n",
      "16       male\n",
      "17       male\n",
      "18     female\n",
      "19     female\n",
      "20       male\n",
      "21       male\n",
      "22     female\n",
      "23       male\n",
      "24     female\n",
      "25     female\n",
      "26       male\n",
      "27       male\n",
      "28     female\n",
      "29       male\n",
      "        ...  \n",
      "861      male\n",
      "862    female\n",
      "863    female\n",
      "864      male\n",
      "865    female\n",
      "866    female\n",
      "867      male\n",
      "868      male\n",
      "869      male\n",
      "870      male\n",
      "871    female\n",
      "872      male\n",
      "873      male\n",
      "874    female\n",
      "875    female\n",
      "876      male\n",
      "877      male\n",
      "878      male\n",
      "879    female\n",
      "880    female\n",
      "881      male\n",
      "882    female\n",
      "883      male\n",
      "884      male\n",
      "885    female\n",
      "886      male\n",
      "887    female\n",
      "888    female\n",
      "889      male\n",
      "890      male\n",
      "Name: sex, dtype: object\n",
      "0        male\n",
      "1      female\n",
      "2      female\n",
      "3      female\n",
      "4        male\n",
      "5        male\n",
      "6        male\n",
      "7        male\n",
      "8      female\n",
      "9      female\n",
      "10     female\n",
      "11     female\n",
      "12       male\n",
      "13       male\n",
      "14     female\n",
      "15     female\n",
      "16       male\n",
      "17       male\n",
      "18     female\n",
      "19     female\n",
      "20       male\n",
      "21       male\n",
      "22     female\n",
      "23       male\n",
      "24     female\n",
      "25     female\n",
      "26       male\n",
      "27       male\n",
      "28     female\n",
      "29       male\n",
      "        ...  \n",
      "861      male\n",
      "862    female\n",
      "863    female\n",
      "864      male\n",
      "865    female\n",
      "866    female\n",
      "867      male\n",
      "868      male\n",
      "869      male\n",
      "870      male\n",
      "871    female\n",
      "872      male\n",
      "873      male\n",
      "874    female\n",
      "875    female\n",
      "876      male\n",
      "877      male\n",
      "878      male\n",
      "879    female\n",
      "880    female\n",
      "881      male\n",
      "882    female\n",
      "883      male\n",
      "884      male\n",
      "885    female\n",
      "886      male\n",
      "887    female\n",
      "888    female\n",
      "889      male\n",
      "890      male\n",
      "Name: sex, dtype: object\n"
     ]
    }
   ],
   "source": [
    "print df['sex']\n",
    "\n",
    "#or\n",
    "\n",
    "print df.sex"
   ]
  },
  {
   "cell_type": "markdown",
   "metadata": {},
   "source": [
    "#### You can also access multiple columns at once"
   ]
  },
  {
   "cell_type": "code",
<<<<<<< Updated upstream
   "execution_count": 8,
=======
   "execution_count": 6,
>>>>>>> Stashed changes
   "metadata": {
    "collapsed": false
   },
   "outputs": [
    {
     "name": "stdout",
     "output_type": "stream",
     "text": [
      "        sex      fare\n",
      "0      male    7.2500\n",
      "1    female   71.2833\n",
      "2    female    7.9250\n",
      "3    female   53.1000\n",
      "4      male    8.0500\n",
      "5      male    8.4583\n",
      "6      male   51.8625\n",
      "7      male   21.0750\n",
      "8    female   11.1333\n",
      "9    female   30.0708\n",
      "10   female   16.7000\n",
      "11   female   26.5500\n",
      "12     male    8.0500\n",
      "13     male   31.2750\n",
      "14   female    7.8542\n",
      "15   female   16.0000\n",
      "16     male   29.1250\n",
      "17     male   13.0000\n",
      "18   female   18.0000\n",
      "19   female    7.2250\n",
      "20     male   26.0000\n",
      "21     male   13.0000\n",
      "22   female    8.0292\n",
      "23     male   35.5000\n",
      "24   female   21.0750\n",
      "25   female   31.3875\n",
      "26     male    7.2250\n",
      "27     male  263.0000\n",
      "28   female    7.8792\n",
      "29     male    7.8958\n",
      "..      ...       ...\n",
      "861    male   11.5000\n",
      "862  female   25.9292\n",
      "863  female   69.5500\n",
      "864    male   13.0000\n",
      "865  female   13.0000\n",
      "866  female   13.8583\n",
      "867    male   50.4958\n",
      "868    male    9.5000\n",
      "869    male   11.1333\n",
      "870    male    7.8958\n",
      "871  female   52.5542\n",
      "872    male    5.0000\n",
      "873    male    9.0000\n",
      "874  female   24.0000\n",
      "875  female    7.2250\n",
      "876    male    9.8458\n",
      "877    male    7.8958\n",
      "878    male    7.8958\n",
      "879  female   83.1583\n",
      "880  female   26.0000\n",
      "881    male    7.8958\n",
      "882  female   10.5167\n",
      "883    male   10.5000\n",
      "884    male    7.0500\n",
      "885  female   29.1250\n",
      "886    male   13.0000\n",
      "887  female   30.0000\n",
      "888  female   23.4500\n",
      "889    male   30.0000\n",
      "890    male    7.7500\n",
      "\n",
      "[891 rows x 2 columns]\n"
     ]
    }
   ],
   "source": [
    "\n",
    "print df[[\"sex\",\"fare\"]]"
   ]
  },
  {
   "cell_type": "markdown",
   "metadata": {},
   "source": [
    "#### You can view either the first N or last N set of rows"
   ]
  },
  {
   "cell_type": "code",
<<<<<<< Updated upstream
   "execution_count": 10,
=======
   "execution_count": 7,
>>>>>>> Stashed changes
   "metadata": {
    "collapsed": false
   },
   "outputs": [
    {
     "name": "stdout",
     "output_type": "stream",
     "text": [
      "   survived  pclass                                               name  \\\n",
      "0         0       3                            Braund, Mr. Owen Harris   \n",
      "1         1       1  Cumings, Mrs. John Bradley (Florence Briggs Th...   \n",
<<<<<<< Updated upstream
      "\n",
      "      sex   age  sibsp  parch     ticket     fare cabin embarked  \n",
      "0    male  22.0      1      0  A/5 21171   7.2500   NaN        S  \n",
      "1  female  38.0      1      0   PC 17599  71.2833   C85        C  \n"
=======
      "2         1       3                             Heikkinen, Miss. Laina   \n",
      "3         1       1       Futrelle, Mrs. Jacques Heath (Lily May Peel)   \n",
      "4         0       3                           Allen, Mr. William Henry   \n",
      "\n",
      "      sex   age  sibsp  parch            ticket     fare cabin embarked  \n",
      "0    male  22.0      1      0         A/5 21171   7.2500   NaN        S  \n",
      "1  female  38.0      1      0          PC 17599  71.2833   C85        C  \n",
      "2  female  26.0      0      0  STON/O2. 3101282   7.9250   NaN        S  \n",
      "3  female  35.0      1      0            113803  53.1000  C123        S  \n",
      "4    male  35.0      0      0            373450   8.0500   NaN        S  \n"
>>>>>>> Stashed changes
     ]
    }
   ],
   "source": [
    "N = 5\n",
    "\n",
    "print df.head(2)"
   ]
  },
  {
   "cell_type": "code",
   "execution_count": 8,
   "metadata": {
    "collapsed": false
   },
   "outputs": [
    {
     "name": "stdout",
     "output_type": "stream",
     "text": [
      "     survived  pclass                                      name     sex   age  \\\n",
      "886         0       2                     Montvila, Rev. Juozas    male  27.0   \n",
      "887         1       1              Graham, Miss. Margaret Edith  female  19.0   \n",
      "888         0       3  Johnston, Miss. Catherine Helen \"Carrie\"  female   NaN   \n",
      "889         1       1                     Behr, Mr. Karl Howell    male  26.0   \n",
      "890         0       3                       Dooley, Mr. Patrick    male  32.0   \n",
      "\n",
      "     sibsp  parch      ticket   fare cabin embarked  \n",
      "886      0      0      211536  13.00   NaN        S  \n",
      "887      0      0      112053  30.00   B42        S  \n",
      "888      1      2  W./C. 6607  23.45   NaN        S  \n",
      "889      0      0      111369  30.00  C148        C  \n",
      "890      0      0      370376   7.75   NaN        Q  \n"
     ]
    }
   ],
   "source": [
    "print df.tail(N)"
   ]
  },
  {
   "cell_type": "markdown",
   "metadata": {},
   "source": [
    "#### You can recode a variable by mapping on the old value to new values"
   ]
  },
  {
   "cell_type": "code",
<<<<<<< Updated upstream
   "execution_count": 11,
=======
   "execution_count": 9,
>>>>>>> Stashed changes
   "metadata": {
    "collapsed": false
   },
   "outputs": [
    {
     "data": {
      "text/plain": [
       "0       lower\n",
       "1       upper\n",
       "2       lower\n",
       "3       upper\n",
       "4       lower\n",
       "5       lower\n",
       "6       upper\n",
       "7       lower\n",
       "8       lower\n",
       "9      middle\n",
       "10      lower\n",
       "11      upper\n",
       "12      lower\n",
       "13      lower\n",
       "14      lower\n",
       "15     middle\n",
       "16      lower\n",
       "17     middle\n",
       "18      lower\n",
       "19      lower\n",
       "20     middle\n",
       "21     middle\n",
       "22      lower\n",
       "23      upper\n",
       "24      lower\n",
       "25      lower\n",
       "26      lower\n",
       "27      upper\n",
       "28      lower\n",
       "29      lower\n",
       "        ...  \n",
       "861    middle\n",
       "862     upper\n",
       "863     lower\n",
       "864    middle\n",
       "865    middle\n",
       "866    middle\n",
       "867     upper\n",
       "868     lower\n",
       "869     lower\n",
       "870     lower\n",
       "871     upper\n",
       "872     upper\n",
       "873     lower\n",
       "874    middle\n",
       "875     lower\n",
       "876     lower\n",
       "877     lower\n",
       "878     lower\n",
       "879     upper\n",
       "880    middle\n",
       "881     lower\n",
       "882     lower\n",
       "883    middle\n",
       "884     lower\n",
       "885     lower\n",
       "886    middle\n",
       "887     upper\n",
       "888     lower\n",
       "889     upper\n",
       "890     lower\n",
       "Name: pclass, dtype: object"
      ]
     },
<<<<<<< Updated upstream
     "execution_count": 11,
=======
     "execution_count": 9,
>>>>>>> Stashed changes
     "metadata": {},
     "output_type": "execute_result"
    }
   ],
   "source": [
    "df['pclass'] = df[\"pclass\"].astype(\"str\")\n",
    "df[\"pclass\"].replace({'1': 'upper', '2' : 'middle', '3' : \"lower\"})"
   ]
  },
  {
   "cell_type": "code",
   "execution_count": null,
   "metadata": {
    "collapsed": true
   },
   "outputs": [],
   "source": []
  },
  {
   "cell_type": "code",
<<<<<<< Updated upstream
   "execution_count": 17,
=======
   "execution_count": 10,
>>>>>>> Stashed changes
   "metadata": {
    "collapsed": false
   },
   "outputs": [
    {
<<<<<<< Updated upstream
     "data": {
      "text/plain": [
       "array(['survived', 'pclass', 'name', 'sex', 'age', 'sibsp', 'parch',\n",
       "       'ticket', 'fare', 'cabin', 'embarked', 'age_recode'], dtype=object)"
      ]
     },
     "execution_count": 17,
     "metadata": {},
     "output_type": "execute_result"
=======
     "name": "stdout",
     "output_type": "stream",
     "text": [
      "0      adult\n",
      "1      adult\n",
      "2      adult\n",
      "3      adult\n",
      "4      adult\n",
      "5        NaN\n",
      "6      adult\n",
      "7      child\n",
      "8      adult\n",
      "9      child\n",
      "10     child\n",
      "11     adult\n",
      "12     adult\n",
      "13     adult\n",
      "14     child\n",
      "15     adult\n",
      "16     child\n",
      "17       NaN\n",
      "18     adult\n",
      "19       NaN\n",
      "20     adult\n",
      "21     adult\n",
      "22     child\n",
      "23     adult\n",
      "24     child\n",
      "25     adult\n",
      "26       NaN\n",
      "27     adult\n",
      "28       NaN\n",
      "29       NaN\n",
      "       ...  \n",
      "861    adult\n",
      "862    adult\n",
      "863      NaN\n",
      "864    adult\n",
      "865    adult\n",
      "866    adult\n",
      "867    adult\n",
      "868      NaN\n",
      "869    child\n",
      "870    adult\n",
      "871    adult\n",
      "872    adult\n",
      "873    adult\n",
      "874    adult\n",
      "875    child\n",
      "876    adult\n",
      "877    adult\n",
      "878      NaN\n",
      "879    adult\n",
      "880    adult\n",
      "881    adult\n",
      "882    adult\n",
      "883    adult\n",
      "884    adult\n",
      "885    adult\n",
      "886    adult\n",
      "887    adult\n",
      "888      NaN\n",
      "889    adult\n",
      "890    adult\n",
      "Name: age_recode, dtype: object\n"
     ]
>>>>>>> Stashed changes
    }
   ],
   "source": [
    "df.ix[df.age >= 18, 'age_recode'] = \"adult\"\n",
    "df.ix[df.age < 18, 'age_recode'] = \"child\"\n",
    "df.columns.values"
   ]
  },
  {
   "cell_type": "markdown",
   "metadata": {},
   "source": [
    "#### You can create new variables"
   ]
  },
  {
   "cell_type": "code",
<<<<<<< Updated upstream
   "execution_count": 18,
=======
   "execution_count": 11,
>>>>>>> Stashed changes
   "metadata": {
    "collapsed": false
   },
   "outputs": [
    {
     "name": "stdout",
     "output_type": "stream",
     "text": [
      "     sibsp  parch  familymembers\n",
      "0        1      0              1\n",
      "1        1      0              1\n",
      "2        0      0              0\n",
      "3        1      0              1\n",
      "4        0      0              0\n",
      "5        0      0              0\n",
      "6        0      0              0\n",
      "7        3      1              4\n",
      "8        0      2              2\n",
      "9        1      0              1\n",
      "10       1      1              2\n",
      "11       0      0              0\n",
      "12       0      0              0\n",
      "13       1      5              6\n",
      "14       0      0              0\n",
      "15       0      0              0\n",
      "16       4      1              5\n",
      "17       0      0              0\n",
      "18       1      0              1\n",
      "19       0      0              0\n",
      "20       0      0              0\n",
      "21       0      0              0\n",
      "22       0      0              0\n",
      "23       0      0              0\n",
      "24       3      1              4\n",
      "25       1      5              6\n",
      "26       0      0              0\n",
      "27       3      2              5\n",
      "28       0      0              0\n",
      "29       0      0              0\n",
      "..     ...    ...            ...\n",
      "861      1      0              1\n",
      "862      0      0              0\n",
      "863      8      2             10\n",
      "864      0      0              0\n",
      "865      0      0              0\n",
      "866      1      0              1\n",
      "867      0      0              0\n",
      "868      0      0              0\n",
      "869      1      1              2\n",
      "870      0      0              0\n",
      "871      1      1              2\n",
      "872      0      0              0\n",
      "873      0      0              0\n",
      "874      1      0              1\n",
      "875      0      0              0\n",
      "876      0      0              0\n",
      "877      0      0              0\n",
      "878      0      0              0\n",
      "879      0      1              1\n",
      "880      0      1              1\n",
      "881      0      0              0\n",
      "882      0      0              0\n",
      "883      0      0              0\n",
      "884      0      0              0\n",
      "885      0      5              5\n",
      "886      0      0              0\n",
      "887      0      0              0\n",
      "888      1      2              3\n",
      "889      0      0              0\n",
      "890      0      0              0\n",
      "\n",
      "[891 rows x 3 columns]\n"
     ]
    }
   ],
   "source": [
    "df[\"familymembers\"] = df[\"sibsp\"] + df[\"parch\"] \n",
    "print df[[\"sibsp\",\"parch\",\"familymembers\"]]"
   ]
  },
  {
   "cell_type": "markdown",
   "metadata": {},
   "source": [
    "#### You can code variables by their range"
   ]
  },
  {
   "cell_type": "code",
<<<<<<< Updated upstream
   "execution_count": 22,
=======
   "execution_count": 12,
>>>>>>> Stashed changes
   "metadata": {
    "collapsed": false
   },
   "outputs": [
    {
<<<<<<< Updated upstream
     "data": {
      "text/plain": [
       "0        1\n",
       "1        1\n",
       "2        0\n",
       "3        1\n",
       "4        0\n",
       "5        0\n",
       "6        0\n",
       "7       16\n",
       "8        4\n",
       "9        1\n",
       "10       4\n",
       "11       0\n",
       "12       0\n",
       "13      36\n",
       "14       0\n",
       "15       0\n",
       "16      25\n",
       "17       0\n",
       "18       1\n",
       "19       0\n",
       "20       0\n",
       "21       0\n",
       "22       0\n",
       "23       0\n",
       "24      16\n",
       "25      36\n",
       "26       0\n",
       "27      25\n",
       "28       0\n",
       "29       0\n",
       "      ... \n",
       "861      1\n",
       "862      0\n",
       "863    100\n",
       "864      0\n",
       "865      0\n",
       "866      1\n",
       "867      0\n",
       "868      0\n",
       "869      4\n",
       "870      0\n",
       "871      4\n",
       "872      0\n",
       "873      0\n",
       "874      1\n",
       "875      0\n",
       "876      0\n",
       "877      0\n",
       "878      0\n",
       "879      1\n",
       "880      1\n",
       "881      0\n",
       "882      0\n",
       "883      0\n",
       "884      0\n",
       "885     25\n",
       "886      0\n",
       "887      0\n",
       "888      9\n",
       "889      0\n",
       "890      0\n",
       "Name: familymembers, dtype: int64"
      ]
     },
     "execution_count": 22,
     "metadata": {},
     "output_type": "execute_result"
    }
   ],
   "source": [
    "df['familymembers'].apply(lambda x: x**2)"
=======
     "name": "stdout",
     "output_type": "stream",
     "text": [
      "0      group\n",
      "1      group\n",
      "2      alone\n",
      "3      group\n",
      "4      alone\n",
      "5      alone\n",
      "6      alone\n",
      "7      group\n",
      "8      group\n",
      "9      group\n",
      "10     group\n",
      "11     alone\n",
      "12     alone\n",
      "13     group\n",
      "14     alone\n",
      "15     alone\n",
      "16     group\n",
      "17     alone\n",
      "18     group\n",
      "19     alone\n",
      "20     alone\n",
      "21     alone\n",
      "22     alone\n",
      "23     alone\n",
      "24     group\n",
      "25     group\n",
      "26     alone\n",
      "27     group\n",
      "28     alone\n",
      "29     alone\n",
      "       ...  \n",
      "861    group\n",
      "862    alone\n",
      "863    group\n",
      "864    alone\n",
      "865    alone\n",
      "866    group\n",
      "867    alone\n",
      "868    alone\n",
      "869    group\n",
      "870    alone\n",
      "871    group\n",
      "872    alone\n",
      "873    alone\n",
      "874    group\n",
      "875    alone\n",
      "876    alone\n",
      "877    alone\n",
      "878    alone\n",
      "879    group\n",
      "880    group\n",
      "881    alone\n",
      "882    alone\n",
      "883    alone\n",
      "884    alone\n",
      "885    group\n",
      "886    alone\n",
      "887    alone\n",
      "888    group\n",
      "889    alone\n",
      "890    alone\n",
      "Name: alone_or_group, dtype: object\n"
     ]
    }
   ],
   "source": [
    "df[\"alone_or_group\"] = df['familymembers'].apply(lambda x: 'alone' if x < 1 else 'group')\n",
    "print df[\"alone_or_group\"]\n"
>>>>>>> Stashed changes
   ]
  },
  {
   "cell_type": "markdown",
   "metadata": {},
   "source": [
    "#### You can combine two different data sources that share a common attribute (e.g., \"name\")"
   ]
  },
  {
   "cell_type": "code",
<<<<<<< Updated upstream
   "execution_count": 26,
=======
   "execution_count": 13,
>>>>>>> Stashed changes
   "metadata": {
    "collapsed": false
   },
   "outputs": [
    {
<<<<<<< Updated upstream
     "data": {
      "text/plain": [
       "[(1, 1), (2, 2), (3, 3)]"
      ]
     },
     "execution_count": 26,
     "metadata": {},
     "output_type": "execute_result"
=======
     "name": "stdout",
     "output_type": "stream",
     "text": [
      "                                                  name  survived      fare\n",
      "0                              Braund, Mr. Owen Harris         0    7.2500\n",
      "1    Cumings, Mrs. John Bradley (Florence Briggs Th...         1   71.2833\n",
      "2                               Heikkinen, Miss. Laina         1    7.9250\n",
      "3         Futrelle, Mrs. Jacques Heath (Lily May Peel)         1   53.1000\n",
      "4                             Allen, Mr. William Henry         0    8.0500\n",
      "5                                     Moran, Mr. James         0    8.4583\n",
      "6                              McCarthy, Mr. Timothy J         0   51.8625\n",
      "7                       Palsson, Master. Gosta Leonard         0   21.0750\n",
      "8    Johnson, Mrs. Oscar W (Elisabeth Vilhelmina Berg)         1   11.1333\n",
      "9                  Nasser, Mrs. Nicholas (Adele Achem)         1   30.0708\n",
      "10                     Sandstrom, Miss. Marguerite Rut         1   16.7000\n",
      "11                            Bonnell, Miss. Elizabeth         1   26.5500\n",
      "12                      Saundercock, Mr. William Henry         0    8.0500\n",
      "13                         Andersson, Mr. Anders Johan         0   31.2750\n",
      "14                Vestrom, Miss. Hulda Amanda Adolfina         0    7.8542\n",
      "15                    Hewlett, Mrs. (Mary D Kingcome)          1   16.0000\n",
      "16                                Rice, Master. Eugene         0   29.1250\n",
      "17                        Williams, Mr. Charles Eugene         1   13.0000\n",
      "18   Vander Planke, Mrs. Julius (Emelia Maria Vande...         0   18.0000\n",
      "19                             Masselmani, Mrs. Fatima         1    7.2250\n",
      "20                                Fynney, Mr. Joseph J         0   26.0000\n",
      "21                               Beesley, Mr. Lawrence         1   13.0000\n",
      "22                         McGowan, Miss. Anna \"Annie\"         1    8.0292\n",
      "23                        Sloper, Mr. William Thompson         1   35.5000\n",
      "24                       Palsson, Miss. Torborg Danira         0   21.0750\n",
      "25   Asplund, Mrs. Carl Oscar (Selma Augusta Emilia...         1   31.3875\n",
      "26                             Emir, Mr. Farred Chehab         0    7.2250\n",
      "27                      Fortune, Mr. Charles Alexander         0  263.0000\n",
      "28                       O'Dwyer, Miss. Ellen \"Nellie\"         1    7.8792\n",
      "29                                 Todoroff, Mr. Lalio         0    7.8958\n",
      "..                                                 ...       ...       ...\n",
      "861                        Giles, Mr. Frederick Edward         0   11.5000\n",
      "862  Swift, Mrs. Frederick Joel (Margaret Welles Ba...         1   25.9292\n",
      "863                  Sage, Miss. Dorothy Edith \"Dolly\"         0   69.5500\n",
      "864                             Gill, Mr. John William         0   13.0000\n",
      "865                           Bystrom, Mrs. (Karolina)         1   13.0000\n",
      "866                       Duran y More, Miss. Asuncion         1   13.8583\n",
      "867               Roebling, Mr. Washington Augustus II         0   50.4958\n",
      "868                        van Melkebeke, Mr. Philemon         0    9.5000\n",
      "869                    Johnson, Master. Harold Theodor         1   11.1333\n",
      "870                                  Balkic, Mr. Cerin         0    7.8958\n",
      "871   Beckwith, Mrs. Richard Leonard (Sallie Monypeny)         1   52.5542\n",
      "872                           Carlsson, Mr. Frans Olof         0    5.0000\n",
      "873                        Vander Cruyssen, Mr. Victor         0    9.0000\n",
      "874              Abelson, Mrs. Samuel (Hannah Wizosky)         1   24.0000\n",
      "875                   Najib, Miss. Adele Kiamie \"Jane\"         1    7.2250\n",
      "876                      Gustafsson, Mr. Alfred Ossian         0    9.8458\n",
      "877                               Petroff, Mr. Nedelio         0    7.8958\n",
      "878                                 Laleff, Mr. Kristo         0    7.8958\n",
      "879      Potter, Mrs. Thomas Jr (Lily Alexenia Wilson)         1   83.1583\n",
      "880       Shelley, Mrs. William (Imanita Parrish Hall)         1   26.0000\n",
      "881                                 Markun, Mr. Johann         0    7.8958\n",
      "882                       Dahlberg, Miss. Gerda Ulrika         0   10.5167\n",
      "883                      Banfield, Mr. Frederick James         0   10.5000\n",
      "884                             Sutehall, Mr. Henry Jr         0    7.0500\n",
      "885               Rice, Mrs. William (Margaret Norton)         0   29.1250\n",
      "886                              Montvila, Rev. Juozas         0   13.0000\n",
      "887                       Graham, Miss. Margaret Edith         1   30.0000\n",
      "888           Johnston, Miss. Catherine Helen \"Carrie\"         0   23.4500\n",
      "889                              Behr, Mr. Karl Howell         1   30.0000\n",
      "890                                Dooley, Mr. Patrick         0    7.7500\n",
      "\n",
      "[891 rows x 3 columns]\n"
     ]
>>>>>>> Stashed changes
    }
   ],
   "source": [
    "survivors = df[[\"name\",\"survived\"]]\n",
    "ticketprices = df[[\"name\",\"fare\"]]\n",
    "merged = survivors.merge(ticketprices, left_on=\"name\", right_on=\"name\")\n",
<<<<<<< Updated upstream
    "print merged\n",
    "\n"
=======
    "print merged\n"
>>>>>>> Stashed changes
   ]
  },
  {
   "cell_type": "markdown",
   "metadata": {},
   "source": [
    "## Examine Categorical Variables for Irregularities"
   ]
  },
  {
   "cell_type": "markdown",
   "metadata": {},
   "source": [
    "#### Examine the different values entered"
   ]
  },
  {
   "cell_type": "code",
<<<<<<< Updated upstream
   "execution_count": 27,
=======
   "execution_count": 14,
>>>>>>> Stashed changes
   "metadata": {
    "collapsed": false
   },
   "outputs": [
    {
     "data": {
      "text/plain": [
       "array(['male', 'female'], dtype=object)"
      ]
     },
<<<<<<< Updated upstream
     "execution_count": 27,
=======
     "execution_count": 14,
>>>>>>> Stashed changes
     "metadata": {},
     "output_type": "execute_result"
    }
   ],
   "source": [
    "pd.unique(df[\"sex\"])"
   ]
  },
  {
   "cell_type": "markdown",
   "metadata": {},
   "source": [
    "#### Make all string values lowercase"
   ]
  },
  {
   "cell_type": "code",
<<<<<<< Updated upstream
   "execution_count": 28,
=======
   "execution_count": 15,
>>>>>>> Stashed changes
   "metadata": {
    "collapsed": false
   },
   "outputs": [
    {
     "name": "stdout",
     "output_type": "stream",
     "text": [
      "0                                braund, mr. owen harris\n",
      "1      cumings, mrs. john bradley (florence briggs th...\n",
      "2                                 heikkinen, miss. laina\n",
      "3           futrelle, mrs. jacques heath (lily may peel)\n",
      "4                               allen, mr. william henry\n",
      "5                                       moran, mr. james\n",
      "6                                mccarthy, mr. timothy j\n",
      "7                         palsson, master. gosta leonard\n",
      "8      johnson, mrs. oscar w (elisabeth vilhelmina berg)\n",
      "9                    nasser, mrs. nicholas (adele achem)\n",
      "10                       sandstrom, miss. marguerite rut\n",
      "11                              bonnell, miss. elizabeth\n",
      "12                        saundercock, mr. william henry\n",
      "13                           andersson, mr. anders johan\n",
      "14                  vestrom, miss. hulda amanda adolfina\n",
      "15                      hewlett, mrs. (mary d kingcome) \n",
      "16                                  rice, master. eugene\n",
      "17                          williams, mr. charles eugene\n",
      "18     vander planke, mrs. julius (emelia maria vande...\n",
      "19                               masselmani, mrs. fatima\n",
      "20                                  fynney, mr. joseph j\n",
      "21                                 beesley, mr. lawrence\n",
      "22                           mcgowan, miss. anna \"annie\"\n",
      "23                          sloper, mr. william thompson\n",
      "24                         palsson, miss. torborg danira\n",
      "25     asplund, mrs. carl oscar (selma augusta emilia...\n",
      "26                               emir, mr. farred chehab\n",
      "27                        fortune, mr. charles alexander\n",
      "28                         o'dwyer, miss. ellen \"nellie\"\n",
      "29                                   todoroff, mr. lalio\n",
      "                             ...                        \n",
      "861                          giles, mr. frederick edward\n",
      "862    swift, mrs. frederick joel (margaret welles ba...\n",
      "863                    sage, miss. dorothy edith \"dolly\"\n",
      "864                               gill, mr. john william\n",
      "865                             bystrom, mrs. (karolina)\n",
      "866                         duran y more, miss. asuncion\n",
      "867                 roebling, mr. washington augustus ii\n",
      "868                          van melkebeke, mr. philemon\n",
      "869                      johnson, master. harold theodor\n",
      "870                                    balkic, mr. cerin\n",
      "871     beckwith, mrs. richard leonard (sallie monypeny)\n",
      "872                             carlsson, mr. frans olof\n",
      "873                          vander cruyssen, mr. victor\n",
      "874                abelson, mrs. samuel (hannah wizosky)\n",
      "875                     najib, miss. adele kiamie \"jane\"\n",
      "876                        gustafsson, mr. alfred ossian\n",
      "877                                 petroff, mr. nedelio\n",
      "878                                   laleff, mr. kristo\n",
      "879        potter, mrs. thomas jr (lily alexenia wilson)\n",
      "880         shelley, mrs. william (imanita parrish hall)\n",
      "881                                   markun, mr. johann\n",
      "882                         dahlberg, miss. gerda ulrika\n",
      "883                        banfield, mr. frederick james\n",
      "884                               sutehall, mr. henry jr\n",
      "885                 rice, mrs. william (margaret norton)\n",
      "886                                montvila, rev. juozas\n",
      "887                         graham, miss. margaret edith\n",
      "888             johnston, miss. catherine helen \"carrie\"\n",
      "889                                behr, mr. karl howell\n",
      "890                                  dooley, mr. patrick\n",
      "Name: name, dtype: object\n"
     ]
    }
   ],
   "source": [
    "df['name'] = df['name'].apply(lambda x: x.lower())\n",
    "print df['name']"
   ]
  },
  {
   "cell_type": "markdown",
   "metadata": {},
   "source": [
    "#### Fix string values that might have an extra hidden spae before or after"
   ]
  },
  {
   "cell_type": "code",
<<<<<<< Updated upstream
   "execution_count": 29,
=======
   "execution_count": 16,
>>>>>>> Stashed changes
   "metadata": {
    "collapsed": false
   },
   "outputs": [
    {
     "name": "stdout",
     "output_type": "stream",
     "text": [
      "0                                braund, mr. owen harris\n",
      "1      cumings, mrs. john bradley (florence briggs th...\n",
      "2                                 heikkinen, miss. laina\n",
      "3           futrelle, mrs. jacques heath (lily may peel)\n",
      "4                               allen, mr. william henry\n",
      "5                                       moran, mr. james\n",
      "6                                mccarthy, mr. timothy j\n",
      "7                         palsson, master. gosta leonard\n",
      "8      johnson, mrs. oscar w (elisabeth vilhelmina berg)\n",
      "9                    nasser, mrs. nicholas (adele achem)\n",
      "10                       sandstrom, miss. marguerite rut\n",
      "11                              bonnell, miss. elizabeth\n",
      "12                        saundercock, mr. william henry\n",
      "13                           andersson, mr. anders johan\n",
      "14                  vestrom, miss. hulda amanda adolfina\n",
      "15                       hewlett, mrs. (mary d kingcome)\n",
      "16                                  rice, master. eugene\n",
      "17                          williams, mr. charles eugene\n",
      "18     vander planke, mrs. julius (emelia maria vande...\n",
      "19                               masselmani, mrs. fatima\n",
      "20                                  fynney, mr. joseph j\n",
      "21                                 beesley, mr. lawrence\n",
      "22                           mcgowan, miss. anna \"annie\"\n",
      "23                          sloper, mr. william thompson\n",
      "24                         palsson, miss. torborg danira\n",
      "25     asplund, mrs. carl oscar (selma augusta emilia...\n",
      "26                               emir, mr. farred chehab\n",
      "27                        fortune, mr. charles alexander\n",
      "28                         o'dwyer, miss. ellen \"nellie\"\n",
      "29                                   todoroff, mr. lalio\n",
      "                             ...                        \n",
      "861                          giles, mr. frederick edward\n",
      "862    swift, mrs. frederick joel (margaret welles ba...\n",
      "863                    sage, miss. dorothy edith \"dolly\"\n",
      "864                               gill, mr. john william\n",
      "865                             bystrom, mrs. (karolina)\n",
      "866                         duran y more, miss. asuncion\n",
      "867                 roebling, mr. washington augustus ii\n",
      "868                          van melkebeke, mr. philemon\n",
      "869                      johnson, master. harold theodor\n",
      "870                                    balkic, mr. cerin\n",
      "871     beckwith, mrs. richard leonard (sallie monypeny)\n",
      "872                             carlsson, mr. frans olof\n",
      "873                          vander cruyssen, mr. victor\n",
      "874                abelson, mrs. samuel (hannah wizosky)\n",
      "875                     najib, miss. adele kiamie \"jane\"\n",
      "876                        gustafsson, mr. alfred ossian\n",
      "877                                 petroff, mr. nedelio\n",
      "878                                   laleff, mr. kristo\n",
      "879        potter, mrs. thomas jr (lily alexenia wilson)\n",
      "880         shelley, mrs. william (imanita parrish hall)\n",
      "881                                   markun, mr. johann\n",
      "882                         dahlberg, miss. gerda ulrika\n",
      "883                        banfield, mr. frederick james\n",
      "884                               sutehall, mr. henry jr\n",
      "885                 rice, mrs. william (margaret norton)\n",
      "886                                montvila, rev. juozas\n",
      "887                         graham, miss. margaret edith\n",
      "888             johnston, miss. catherine helen \"carrie\"\n",
      "889                                behr, mr. karl howell\n",
      "890                                  dooley, mr. patrick\n",
      "Name: name, dtype: object\n"
     ]
    }
   ],
   "source": [
    "df['name'] = df['name'].apply(lambda x: x.strip())\n",
    "print df['name']"
   ]
  },
  {
   "cell_type": "markdown",
   "metadata": {},
   "source": [
    "####  Fix string values that might be mispelled"
   ]
  },
  {
   "cell_type": "code",
   "execution_count": 17,
   "metadata": {
    "collapsed": false
   },
   "outputs": [
    {
     "name": "stdout",
     "output_type": "stream",
     "text": [
      "0        male\n",
      "1      female\n",
      "2      female\n",
      "3      female\n",
      "4        male\n",
      "5        male\n",
      "6        male\n",
      "7        male\n",
      "8      female\n",
      "9      female\n",
      "10     female\n",
      "11     female\n",
      "12       male\n",
      "13       male\n",
      "14     female\n",
      "15     female\n",
      "16       male\n",
      "17       male\n",
      "18     female\n",
      "19     female\n",
      "20       male\n",
      "21       male\n",
      "22     female\n",
      "23       male\n",
      "24     female\n",
      "25     female\n",
      "26       male\n",
      "27       male\n",
      "28     female\n",
      "29       male\n",
      "        ...  \n",
      "861      male\n",
      "862    female\n",
      "863    female\n",
      "864      male\n",
      "865    female\n",
      "866    female\n",
      "867      male\n",
      "868      male\n",
      "869      male\n",
      "870      male\n",
      "871    female\n",
      "872      male\n",
      "873      male\n",
      "874    female\n",
      "875    female\n",
      "876      male\n",
      "877      male\n",
      "878      male\n",
      "879    female\n",
      "880    female\n",
      "881      male\n",
      "882    female\n",
      "883      male\n",
      "884      male\n",
      "885    female\n",
      "886      male\n",
      "887    female\n",
      "888    female\n",
      "889      male\n",
      "890      male\n",
      "Name: sex, dtype: object\n"
     ]
    }
   ],
   "source": [
    "import difflib\n",
    "df['sex'] = df['sex'].apply(lambda x: difflib.get_close_matches(x,[\"male\",\"female\"])[0])\n",
    "print df['sex']"
   ]
  },
  {
   "cell_type": "markdown",
   "metadata": {},
   "source": [
    "## Examine quantitative variables for irregularities"
   ]
  },
  {
   "cell_type": "markdown",
   "metadata": {},
   "source": [
    "#### View the central tendency, variability, minimum, maximum, and quartiles to check for impossible or unexpect values"
   ]
  },
  {
   "cell_type": "code",
<<<<<<< Updated upstream
   "execution_count": 30,
=======
   "execution_count": 18,
>>>>>>> Stashed changes
   "metadata": {
    "collapsed": false
   },
   "outputs": [
    {
     "data": {
      "text/plain": [
       "count    891.000000\n",
       "mean      32.204208\n",
       "std       49.693429\n",
       "min        0.000000\n",
       "25%        7.910400\n",
       "50%       14.454200\n",
       "75%       31.000000\n",
       "max      512.329200\n",
       "Name: fare, dtype: float64"
      ]
     },
<<<<<<< Updated upstream
     "execution_count": 30,
=======
     "execution_count": 18,
>>>>>>> Stashed changes
     "metadata": {},
     "output_type": "execute_result"
    }
   ],
   "source": [
    "df[\"fare\"].describe()"
   ]
  },
  {
   "cell_type": "markdown",
   "metadata": {},
   "source": [
    "#### View a histogram that shows the distribution of the variables."
   ]
  },
  {
   "cell_type": "code",
<<<<<<< Updated upstream
   "execution_count": 32,
=======
   "execution_count": 19,
   "metadata": {
    "collapsed": false
   },
   "outputs": [
    {
     "name": "stdout",
     "output_type": "stream",
     "text": [
      "Using matplotlib backend: MacOSX\n"
     ]
    }
   ],
   "source": [
    "%matplotlib auto"
   ]
  },
  {
   "cell_type": "code",
   "execution_count": 21,
>>>>>>> Stashed changes
   "metadata": {
    "collapsed": false
   },
   "outputs": [],
   "source": [
    "import matplotlib.pyplot as plt\n",
    "plt.figure();\n",
    "df[\"fare\"].plot.hist(alpha=0.5)\n",
    "plt.show()"
   ]
  },
  {
   "cell_type": "markdown",
   "metadata": {},
   "source": [
    "#### Restrict the values that data can take (upper and lower limits)"
   ]
  },
  {
   "cell_type": "code",
   "execution_count": 33,
   "metadata": {
    "collapsed": false
   },
   "outputs": [],
   "source": [
    "df.loc[:,'age'] = df['age'].clip(lower=0, upper=100)"
   ]
  },
  {
   "cell_type": "markdown",
   "metadata": {},
   "source": [
    "\n",
    "\n",
    "## Handling Missing Data"
   ]
  },
  {
   "cell_type": "markdown",
   "metadata": {},
   "source": [
    "#### Checking for missing data"
   ]
  },
  {
   "cell_type": "code",
   "execution_count": 34,
   "metadata": {
    "collapsed": false
   },
   "outputs": [
    {
     "name": "stdout",
     "output_type": "stream",
     "text": [
      "177\n",
      "     survived pclass                                            name     sex  \\\n",
      "5           0      3                                moran, mr. james    male   \n",
      "17          1      2                    williams, mr. charles eugene    male   \n",
      "19          1      3                         masselmani, mrs. fatima  female   \n",
      "26          0      3                         emir, mr. farred chehab    male   \n",
      "28          1      3                   o'dwyer, miss. ellen \"nellie\"  female   \n",
      "29          0      3                             todoroff, mr. lalio    male   \n",
      "31          1      1  spencer, mrs. william augustus (marie eugenie)  female   \n",
      "32          1      3                        glynn, miss. mary agatha  female   \n",
      "36          1      3                                mamee, mr. hanna    male   \n",
      "42          0      3                             kraeff, mr. theodor    male   \n",
      "45          0      3                        rogers, mr. william john    male   \n",
      "46          0      3                               lennon, mr. denis    male   \n",
      "47          1      3                       o'driscoll, miss. bridget  female   \n",
      "48          0      3                             samaan, mr. youssef    male   \n",
      "55          1      1                               woolner, mr. hugh    male   \n",
      "64          0      1                           stewart, mr. albert a    male   \n",
      "65          1      3                        moubarek, master. gerios    male   \n",
      "76          0      3                               staneff, mr. ivan    male   \n",
      "77          0      3                        moutal, mr. rahamin haim    male   \n",
      "82          1      3                  mcdermott, miss. brigdet delia  female   \n",
      "87          0      3                   slocovski, mr. selman francis    male   \n",
      "95          0      3                     shorney, mr. charles joseph    male   \n",
      "101         0      3                petroff, mr. pastcho (\"pentcho\")    male   \n",
      "107         1      3                          moss, mr. albert johan    male   \n",
      "109         1      3                             moran, miss. bertha  female   \n",
      "121         0      3                      moore, mr. leonard charles    male   \n",
      "126         0      3                             mcmahon, mr. martin    male   \n",
      "128         1      3                               peter, miss. anna  female   \n",
      "140         0      3                   boulos, mrs. joseph (sultana)  female   \n",
      "154         0      3                           olsen, mr. ole martin    male   \n",
      "..        ...    ...                                             ...     ...   \n",
      "718         0      3                             mcevoy, mr. michael    male   \n",
      "727         1      3                        mannion, miss. margareth  female   \n",
      "732         0      2                            knight, mr. robert j    male   \n",
      "738         0      3                              ivanoff, mr. kanio    male   \n",
      "739         0      3                              nankoff, mr. minko    male   \n",
      "740         1      1                     hawksford, mr. walter james    male   \n",
      "760         0      3                              garfirth, mr. john    male   \n",
      "766         0      1                       brewe, dr. arthur jackson    male   \n",
      "768         0      3                             moran, mr. daniel j    male   \n",
      "773         0      3                                 elias, mr. dibo    male   \n",
      "776         0      3                                tobin, mr. roger    male   \n",
      "778         0      3                         kilgannon, mr. thomas j    male   \n",
      "783         0      3                          johnston, mr. andrew g    male   \n",
      "790         0      3                        keane, mr. andrew \"andy\"    male   \n",
      "792         0      3                         sage, miss. stella anna  female   \n",
      "793         0      1                        hoyt, mr. william fisher    male   \n",
      "815         0      1                                fry, mr. richard    male   \n",
      "825         0      3                                 flynn, mr. john    male   \n",
      "826         0      3                                    lam, mr. len    male   \n",
      "828         1      3                    mccormack, mr. thomas joseph    male   \n",
      "832         0      3                                  saad, mr. amin    male   \n",
      "837         0      3                             sirota, mr. maurice    male   \n",
      "839         1      1                            marechal, mr. pierre    male   \n",
      "846         0      3                        sage, mr. douglas bullen    male   \n",
      "849         1      1    goldenberg, mrs. samuel l (edwiga grabowska)  female   \n",
      "859         0      3                                razi, mr. raihed    male   \n",
      "863         0      3               sage, miss. dorothy edith \"dolly\"  female   \n",
      "868         0      3                     van melkebeke, mr. philemon    male   \n",
      "878         0      3                              laleff, mr. kristo    male   \n",
      "888         0      3        johnston, miss. catherine helen \"carrie\"  female   \n",
      "\n",
      "     age  sibsp  parch           ticket      fare  cabin embarked age_recode  \\\n",
      "5    NaN      0      0           330877    8.4583    NaN        Q        NaN   \n",
      "17   NaN      0      0           244373   13.0000    NaN        S        NaN   \n",
      "19   NaN      0      0             2649    7.2250    NaN        C        NaN   \n",
      "26   NaN      0      0             2631    7.2250    NaN        C        NaN   \n",
      "28   NaN      0      0           330959    7.8792    NaN        Q        NaN   \n",
      "29   NaN      0      0           349216    7.8958    NaN        S        NaN   \n",
      "31   NaN      1      0         PC 17569  146.5208    B78        C        NaN   \n",
      "32   NaN      0      0           335677    7.7500    NaN        Q        NaN   \n",
      "36   NaN      0      0             2677    7.2292    NaN        C        NaN   \n",
      "42   NaN      0      0           349253    7.8958    NaN        C        NaN   \n",
      "45   NaN      0      0  S.C./A.4. 23567    8.0500    NaN        S        NaN   \n",
      "46   NaN      1      0           370371   15.5000    NaN        Q        NaN   \n",
      "47   NaN      0      0            14311    7.7500    NaN        Q        NaN   \n",
      "48   NaN      2      0             2662   21.6792    NaN        C        NaN   \n",
      "55   NaN      0      0            19947   35.5000    C52        S        NaN   \n",
      "64   NaN      0      0         PC 17605   27.7208    NaN        C        NaN   \n",
      "65   NaN      1      1             2661   15.2458    NaN        C        NaN   \n",
      "76   NaN      0      0           349208    7.8958    NaN        S        NaN   \n",
      "77   NaN      0      0           374746    8.0500    NaN        S        NaN   \n",
      "82   NaN      0      0           330932    7.7875    NaN        Q        NaN   \n",
      "87   NaN      0      0  SOTON/OQ 392086    8.0500    NaN        S        NaN   \n",
      "95   NaN      0      0           374910    8.0500    NaN        S        NaN   \n",
      "101  NaN      0      0           349215    7.8958    NaN        S        NaN   \n",
      "107  NaN      0      0           312991    7.7750    NaN        S        NaN   \n",
      "109  NaN      1      0           371110   24.1500    NaN        Q        NaN   \n",
      "121  NaN      0      0        A4. 54510    8.0500    NaN        S        NaN   \n",
      "126  NaN      0      0           370372    7.7500    NaN        Q        NaN   \n",
      "128  NaN      1      1             2668   22.3583  F E69        C        NaN   \n",
      "140  NaN      0      2             2678   15.2458    NaN        C        NaN   \n",
      "154  NaN      0      0        Fa 265302    7.3125    NaN        S        NaN   \n",
      "..   ...    ...    ...              ...       ...    ...      ...        ...   \n",
      "718  NaN      0      0            36568   15.5000    NaN        Q        NaN   \n",
      "727  NaN      0      0            36866    7.7375    NaN        Q        NaN   \n",
      "732  NaN      0      0           239855    0.0000    NaN        S        NaN   \n",
      "738  NaN      0      0           349201    7.8958    NaN        S        NaN   \n",
      "739  NaN      0      0           349218    7.8958    NaN        S        NaN   \n",
      "740  NaN      0      0            16988   30.0000    D45        S        NaN   \n",
      "760  NaN      0      0           358585   14.5000    NaN        S        NaN   \n",
      "766  NaN      0      0           112379   39.6000    NaN        C        NaN   \n",
      "768  NaN      1      0           371110   24.1500    NaN        Q        NaN   \n",
      "773  NaN      0      0             2674    7.2250    NaN        C        NaN   \n",
      "776  NaN      0      0           383121    7.7500    F38        Q        NaN   \n",
      "778  NaN      0      0            36865    7.7375    NaN        Q        NaN   \n",
      "783  NaN      1      2       W./C. 6607   23.4500    NaN        S        NaN   \n",
      "790  NaN      0      0            12460    7.7500    NaN        Q        NaN   \n",
      "792  NaN      8      2         CA. 2343   69.5500    NaN        S        NaN   \n",
      "793  NaN      0      0         PC 17600   30.6958    NaN        C        NaN   \n",
      "815  NaN      0      0           112058    0.0000   B102        S        NaN   \n",
      "825  NaN      0      0           368323    6.9500    NaN        Q        NaN   \n",
      "826  NaN      0      0             1601   56.4958    NaN        S        NaN   \n",
      "828  NaN      0      0           367228    7.7500    NaN        Q        NaN   \n",
      "832  NaN      0      0             2671    7.2292    NaN        C        NaN   \n",
      "837  NaN      0      0           392092    8.0500    NaN        S        NaN   \n",
      "839  NaN      0      0            11774   29.7000    C47        C        NaN   \n",
      "846  NaN      8      2         CA. 2343   69.5500    NaN        S        NaN   \n",
      "849  NaN      1      0            17453   89.1042    C92        C        NaN   \n",
      "859  NaN      0      0             2629    7.2292    NaN        C        NaN   \n",
      "863  NaN      8      2         CA. 2343   69.5500    NaN        S        NaN   \n",
      "868  NaN      0      0           345777    9.5000    NaN        S        NaN   \n",
      "878  NaN      0      0           349217    7.8958    NaN        S        NaN   \n",
      "888  NaN      1      2       W./C. 6607   23.4500    NaN        S        NaN   \n",
      "\n",
      "     familymembers  \n",
      "5                0  \n",
      "17               0  \n",
      "19               0  \n",
      "26               0  \n",
      "28               0  \n",
      "29               0  \n",
      "31               1  \n",
      "32               0  \n",
      "36               0  \n",
      "42               0  \n",
      "45               0  \n",
      "46               1  \n",
      "47               0  \n",
      "48               2  \n",
      "55               0  \n",
      "64               0  \n",
      "65               2  \n",
      "76               0  \n",
      "77               0  \n",
      "82               0  \n",
      "87               0  \n",
      "95               0  \n",
      "101              0  \n",
      "107              0  \n",
      "109              1  \n",
      "121              0  \n",
      "126              0  \n",
      "128              2  \n",
      "140              2  \n",
      "154              0  \n",
      "..             ...  \n",
      "718              0  \n",
      "727              0  \n",
      "732              0  \n",
      "738              0  \n",
      "739              0  \n",
      "740              0  \n",
      "760              0  \n",
      "766              0  \n",
      "768              1  \n",
      "773              0  \n",
      "776              0  \n",
      "778              0  \n",
      "783              3  \n",
      "790              0  \n",
      "792             10  \n",
      "793              0  \n",
      "815              0  \n",
      "825              0  \n",
      "826              0  \n",
      "828              0  \n",
      "832              0  \n",
      "837              0  \n",
      "839              0  \n",
      "846             10  \n",
      "849              1  \n",
      "859              0  \n",
      "863             10  \n",
      "868              0  \n",
      "878              0  \n",
      "888              3  \n",
      "\n",
      "[177 rows x 13 columns]\n"
     ]
    }
   ],
   "source": [
    "missing_count = df['age'].isnull().sum()\n",
    "print missing_count\n",
    "\n",
    "missing_data = df[pd.isnull(df['age'])]\n",
    "print missing_data"
   ]
  },
  {
   "cell_type": "markdown",
   "metadata": {},
   "source": [
    "#### Drop rows that have a missing value for age"
   ]
  },
  {
   "cell_type": "code",
   "execution_count": null,
   "metadata": {
    "collapsed": false
   },
   "outputs": [],
   "source": [
    "df = df[pd.notnull(df['age'])]\n",
    "print df['age']"
   ]
  },
  {
   "cell_type": "markdown",
   "metadata": {},
   "source": [
    "\n",
    "#### Replace missing values with the:\n",
    "   1) median (middle value) for that column\n",
    "   \n",
    "   2) mode (most frequent value) for that column"
   ]
  },
  {
   "cell_type": "code",
   "execution_count": null,
   "metadata": {
    "collapsed": false
   },
   "outputs": [],
   "source": [
    "df['age_medianimpute'] = df['age'].fillna(df['age'].median())\n",
    "df['age_modeimpute'] = df['age'].fillna(df['age'].mode())"
   ]
  },
  {
   "cell_type": "markdown",
   "metadata": {},
   "source": [
    "#### Replace missing values with the likely value"
   ]
  },
  {
   "cell_type": "markdown",
   "metadata": {},
   "source": [
    "#### Use a linear regression formula to predict what the missing value would have been"
   ]
  },
  {
   "cell_type": "code",
   "execution_count": null,
   "metadata": {
    "collapsed": false
   },
   "outputs": [],
   "source": [
    "from sklearn import linear_model, preprocessing\n",
    "import numpy as np\n",
    "\n",
    "\n",
    "sex_encoder = preprocessing.LabelEncoder().fit(df[\"sex\"])\n",
    "df['sex_coded'] = sex_encoder.transform(df[\"sex\"])\n",
    "\n",
    "df_complete = df.dropna()\n",
    "regr = linear_model.LinearRegression()\n",
    "regr.fit(df_complete[[\"fare\",\"sex_coded\"]],df_complete['age'])\n",
    "\n",
    "df.loc[:,'age'] = df.apply(lambda x: regr.predict(df[[\"fare\",\"sex_coded\"]])[0] if pd.isnull(x['age']) else x['age'], axis=1)"
   ]
  },
  {
   "cell_type": "markdown",
   "metadata": {},
   "source": [
    "#### Use the 2 most similar cases to predict what the missing value would have been"
   ]
  },
  {
   "cell_type": "code",
   "execution_count": null,
   "metadata": {
    "collapsed": false
   },
   "outputs": [],
   "source": [
    "from sklearn.neighbors import KNeighborsRegressor\n",
    "\n",
    "sex_encoder = preprocessing.LabelEncoder().fit(df[\"sex\"])\n",
    "df['sex_coded'] = sex_encoder.transform(df[\"sex\"])\n",
    "\n",
    "\n",
    "pclass_encoder = preprocessing.LabelEncoder().fit(df[\"pclass\"])\n",
    "df['pclass_coded'] = pclass_encoder.transform(df[\"pclass\"])\n",
    "\n",
    "df_complete = df.dropna()\n",
    "\n",
    "neigh = KNeighborsRegressor(n_neighbors=2)\n",
    "neigh.fit(df_complete[[\"fare\",\"sex_coded\",\"pclass_coded\",\"sibsp\"]], df_complete[\"age\"])\n",
    "\n",
    "df.loc[:,'age'] = df.apply(lambda x: neigh.predict(df[[\"fare\",\"sex_coded\",\"pclass_coded\",\"sibsp\"]])[0] if pd.isnull(x['age']) else x['age'], axis=1)\n"
   ]
  },
  {
   "cell_type": "markdown",
   "metadata": {},
   "source": [
    "## Apply the lesson"
   ]
  },
  {
   "cell_type": "markdown",
   "metadata": {},
   "source": [
    "#### Import the pandas library (call it pd for short). \n",
    "\n",
    "#### Read in the dataset called \"redwinequality.csv\" in the datasets folder and save it to a dataframe called \"df\""
   ]
  },
  {
   "cell_type": "code",
   "execution_count": null,
   "metadata": {
    "collapsed": false
   },
   "outputs": [],
   "source": [
    "import pandas as pd\n",
    "df = pd.read_csv('../dataset/redwinequality.csv')"
   ]
  },
  {
   "cell_type": "markdown",
   "metadata": {},
   "source": [
    "#### What are the variables collected on each wines?"
   ]
  },
  {
   "cell_type": "code",
   "execution_count": null,
   "metadata": {
    "collapsed": false
   },
   "outputs": [],
   "source": [
    "list(df.columns.values)"
   ]
  },
  {
   "cell_type": "markdown",
   "metadata": {},
   "source": [
    "#### What is the maximum and minimum pH value?"
   ]
  },
  {
   "cell_type": "code",
   "execution_count": null,
   "metadata": {
    "collapsed": false
   },
   "outputs": [],
   "source": [
    "df[\"pH\"].describe()"
   ]
  },
  {
   "cell_type": "markdown",
   "metadata": {},
   "source": [
    "#### How does the distribution of quality ratings look like?"
   ]
  },
  {
   "cell_type": "code",
   "execution_count": null,
   "metadata": {
    "collapsed": true
   },
   "outputs": [],
   "source": [
    "import matplotlib.pyplot as plt\n",
    "plt.figure();\n",
    "df[\"pH\"].plot.hist(alpha=0.5)\n",
    "plt.show()"
   ]
  },
  {
   "cell_type": "markdown",
   "metadata": {},
   "source": [
    "#### Some of the volatile acidity measurements are missing. How many of the measurements are missing? What proportion of wines are missing a volatile acidity rating?"
   ]
  },
  {
   "cell_type": "code",
   "execution_count": null,
   "metadata": {
    "collapsed": false
   },
   "outputs": [],
   "source": [
    "missing_count = df['volatileacidity'].isnull().sum()\n",
    "print missing_count\n",
    "print missing_count / float(len(df.index))"
   ]
  },
  {
   "cell_type": "markdown",
   "metadata": {},
   "source": [
    "#### Fill in the missing values for volatile acidity with the median. Create a new column with the filled in missing data. Call that column: va_medianimpute"
   ]
  },
  {
   "cell_type": "code",
   "execution_count": null,
   "metadata": {
    "collapsed": false
   },
   "outputs": [],
   "source": [
    "df['va_medianimpute'] = df['volatileacidity'].fillna(df['volatileacidity'].median())\n",
    "print df['va_medianimpute']"
   ]
  },
  {
   "cell_type": "markdown",
   "metadata": {},
   "source": [
    "#### Fill in the missing values for volatile acidity with using the 8 most similar cases/neighbors.  Base similarity off the variables: fixedacidity, citricacid, residualsugar, and chlorides\n",
    "\n",
    "#### Create a new column with the filled in missing data. Call that column: va_neighborimpute"
   ]
  },
  {
   "cell_type": "code",
   "execution_count": null,
   "metadata": {
    "collapsed": false
   },
   "outputs": [],
   "source": [
    "from sklearn.neighbors import KNeighborsRegressor\n",
    "from sklearn import preprocessing\n",
    "\n",
    "fixedacidity_encoder = preprocessing.LabelEncoder().fit(df[\"fixedacidity\"])\n",
    "df['fixedacidity_coded'] = fixedacidity_encoder.transform(df[\"fixedacidity\"])\n",
    "\n",
    "\n",
    "citricacid_encoder = preprocessing.LabelEncoder().fit(df[\"citricacid\"])\n",
    "df['citricacid_coded'] = citricacid_encoder.transform(df[\"citricacid\"])\n",
    "\n",
    "df_complete = df.dropna()\n",
    "\n",
    "neigh = KNeighborsRegressor(n_neighbors=8)\n",
    "neigh.fit(df_complete[[\"residualsugar\",\"fixedacidity_coded\",\"citricacid_coded\",\"chlorides\"]], df_complete[\"volatileacidity\"])\n",
    "\n",
    "df.loc[:,'volatileacidity'] = df.apply(lambda x: neigh.predict(df[[\"residualsugar\",\"fixedacidity_coded\",\"citricacid_coded\",\"chlorides\"]])[0] if pd.isnull(x['volatileacidity']) else x['volatileacidity'], axis=1)\n",
    "print df['volatileacidity']"
   ]
  },
  {
   "cell_type": "markdown",
   "metadata": {},
   "source": [
    "#### Load in the complete wine dataset (redwinequality_complete.csv), which has the true values for the missing values. Call the dataframe: df_true\n",
    "\n",
    "#### Compare the absolute difference between the volatile acidity column of the complete dataset with va_medianimpute and the va_neighborimpute variables you created.\n",
    "\n",
    "#### Which imputation method has the smallest MEAN/AVERAGE absolute difference?"
   ]
  },
  {
   "cell_type": "code",
   "execution_count": null,
   "metadata": {
    "collapsed": false
   },
   "outputs": [],
   "source": [
    "df_true = pd.read_csv('../dataset/redwinequality_complete.csv')\n",
    "print df_true"
   ]
  },
  {
   "cell_type": "markdown",
   "metadata": {
    "collapsed": true
   },
   "source": [
    "#### You want to recode the chlorides as either being \"high\" or \"low\" if the chloride level is above or below (or equal to) .25. Create a new variable called: \"chlorides_category\" that follows those rules. Show the new coded variable next to the old numeric variable."
   ]
  },
  {
   "cell_type": "code",
   "execution_count": null,
   "metadata": {
    "collapsed": false
   },
   "outputs": [],
   "source": []
  }
 ],
 "metadata": {
  "kernelspec": {
   "display_name": "Python 2",
   "language": "python",
   "name": "python2"
  },
  "language_info": {
   "codemirror_mode": {
    "name": "ipython",
    "version": 2
   },
   "file_extension": ".py",
   "mimetype": "text/x-python",
   "name": "python",
   "nbconvert_exporter": "python",
   "pygments_lexer": "ipython2",
   "version": "2.7.11"
  }
 },
 "nbformat": 4,
 "nbformat_minor": 0
}
