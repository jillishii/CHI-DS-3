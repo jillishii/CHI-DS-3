{
 "cells": [
  {
   "cell_type": "markdown",
   "metadata": {},
   "source": [
    "## Pandas basics"
   ]
  },
  {
   "cell_type": "markdown",
   "metadata": {},
   "source": [
    "#### Start out by importing the pandas library, and we'll tell Python that we're referring to it as \"pd\" (for the sake of brevity)"
   ]
  },
  {
   "cell_type": "code",
   "execution_count": 1,
   "metadata": {
    "collapsed": true
   },
   "outputs": [],
   "source": [
    "import pandas as pd"
   ]
  },
  {
   "cell_type": "markdown",
   "metadata": {},
   "source": [
    "#### Read in a CSV file into a pandas dataframe we'll call \"df\"\n",
    "#### The csv reading function assumes that each person is on a new line, that the variable names are at the top of the file, and all entries are separated by a column"
   ]
  },
  {
   "cell_type": "code",
   "execution_count": 3,
   "metadata": {
    "collapsed": false
   },
   "outputs": [],
   "source": [
    "df = pd.read_csv('../dataset/titanic.csv')"
   ]
  },
  {
   "cell_type": "markdown",
   "metadata": {},
   "source": [
    "#### You can view the variable/column names"
   ]
  },
  {
   "cell_type": "code",
   "execution_count": 4,
   "metadata": {
    "collapsed": false
   },
   "outputs": [
    {
     "data": {
      "text/plain": [
       "['survived',\n",
       " 'pclass',\n",
       " 'name',\n",
       " 'sex',\n",
       " 'age',\n",
       " 'sibsp',\n",
       " 'parch',\n",
       " 'ticket',\n",
       " 'fare',\n",
       " 'cabin',\n",
       " 'embarked']"
      ]
     },
     "execution_count": 4,
     "metadata": {},
     "output_type": "execute_result"
    }
   ],
   "source": [
    "list(df.columns.values)"
   ]
  },
  {
   "cell_type": "markdown",
   "metadata": {},
   "source": [
    "#### You can view how many data entries/cases there are"
   ]
  },
  {
   "cell_type": "code",
   "execution_count": 5,
   "metadata": {
    "collapsed": false
   },
   "outputs": [
    {
     "name": "stdout",
     "output_type": "stream",
     "text": [
      "891\n"
     ]
    }
   ],
   "source": [
    "print len(df.index)"
   ]
  },
  {
   "cell_type": "markdown",
   "metadata": {},
   "source": [
    "#### You can access a specific column/variable using brackets and the column name in quotations"
   ]
  },
  {
   "cell_type": "code",
   "execution_count": 6,
   "metadata": {
    "collapsed": false
   },
   "outputs": [
    {
     "data": {
      "text/plain": [
       "0        male\n",
       "1      female\n",
       "2      female\n",
       "3      female\n",
       "4        male\n",
       "5        male\n",
       "6        male\n",
       "7        male\n",
       "8      female\n",
       "9      female\n",
       "10     female\n",
       "11     female\n",
       "12       male\n",
       "13       male\n",
       "14     female\n",
       "15     female\n",
       "16       male\n",
       "17       male\n",
       "18     female\n",
       "19     female\n",
       "20       male\n",
       "21       male\n",
       "22     female\n",
       "23       male\n",
       "24     female\n",
       "25     female\n",
       "26       male\n",
       "27       male\n",
       "28     female\n",
       "29       male\n",
       "        ...  \n",
       "861      male\n",
       "862    female\n",
       "863    female\n",
       "864      male\n",
       "865    female\n",
       "866    female\n",
       "867      male\n",
       "868      male\n",
       "869      male\n",
       "870      male\n",
       "871    female\n",
       "872      male\n",
       "873      male\n",
       "874    female\n",
       "875    female\n",
       "876      male\n",
       "877      male\n",
       "878      male\n",
       "879    female\n",
       "880    female\n",
       "881      male\n",
       "882    female\n",
       "883      male\n",
       "884      male\n",
       "885    female\n",
       "886      male\n",
       "887    female\n",
       "888    female\n",
       "889      male\n",
       "890      male\n",
       "Name: sex, dtype: object"
      ]
     },
     "execution_count": 6,
     "metadata": {},
     "output_type": "execute_result"
    }
   ],
   "source": [
    "df['sex']\n",
    "\n",
    "#or\n",
    "\n",
    "df.sex"
   ]
  },
  {
   "cell_type": "markdown",
   "metadata": {},
   "source": [
    "#### You can also access multiple columns at once"
   ]
  },
  {
   "cell_type": "code",
   "execution_count": 7,
   "metadata": {
    "collapsed": false
   },
   "outputs": [
    {
     "data": {
      "text/html": [
       "<div>\n",
       "<table border=\"1\" class=\"dataframe\">\n",
       "  <thead>\n",
       "    <tr style=\"text-align: right;\">\n",
       "      <th></th>\n",
       "      <th>sex</th>\n",
       "      <th>fare</th>\n",
       "    </tr>\n",
       "  </thead>\n",
       "  <tbody>\n",
       "    <tr>\n",
       "      <th>0</th>\n",
       "      <td>male</td>\n",
       "      <td>7.2500</td>\n",
       "    </tr>\n",
       "    <tr>\n",
       "      <th>1</th>\n",
       "      <td>female</td>\n",
       "      <td>71.2833</td>\n",
       "    </tr>\n",
       "    <tr>\n",
       "      <th>2</th>\n",
       "      <td>female</td>\n",
       "      <td>7.9250</td>\n",
       "    </tr>\n",
       "    <tr>\n",
       "      <th>3</th>\n",
       "      <td>female</td>\n",
       "      <td>53.1000</td>\n",
       "    </tr>\n",
       "    <tr>\n",
       "      <th>4</th>\n",
       "      <td>male</td>\n",
       "      <td>8.0500</td>\n",
       "    </tr>\n",
       "    <tr>\n",
       "      <th>5</th>\n",
       "      <td>male</td>\n",
       "      <td>8.4583</td>\n",
       "    </tr>\n",
       "    <tr>\n",
       "      <th>6</th>\n",
       "      <td>male</td>\n",
       "      <td>51.8625</td>\n",
       "    </tr>\n",
       "    <tr>\n",
       "      <th>7</th>\n",
       "      <td>male</td>\n",
       "      <td>21.0750</td>\n",
       "    </tr>\n",
       "    <tr>\n",
       "      <th>8</th>\n",
       "      <td>female</td>\n",
       "      <td>11.1333</td>\n",
       "    </tr>\n",
       "    <tr>\n",
       "      <th>9</th>\n",
       "      <td>female</td>\n",
       "      <td>30.0708</td>\n",
       "    </tr>\n",
       "    <tr>\n",
       "      <th>10</th>\n",
       "      <td>female</td>\n",
       "      <td>16.7000</td>\n",
       "    </tr>\n",
       "    <tr>\n",
       "      <th>11</th>\n",
       "      <td>female</td>\n",
       "      <td>26.5500</td>\n",
       "    </tr>\n",
       "    <tr>\n",
       "      <th>12</th>\n",
       "      <td>male</td>\n",
       "      <td>8.0500</td>\n",
       "    </tr>\n",
       "    <tr>\n",
       "      <th>13</th>\n",
       "      <td>male</td>\n",
       "      <td>31.2750</td>\n",
       "    </tr>\n",
       "    <tr>\n",
       "      <th>14</th>\n",
       "      <td>female</td>\n",
       "      <td>7.8542</td>\n",
       "    </tr>\n",
       "    <tr>\n",
       "      <th>15</th>\n",
       "      <td>female</td>\n",
       "      <td>16.0000</td>\n",
       "    </tr>\n",
       "    <tr>\n",
       "      <th>16</th>\n",
       "      <td>male</td>\n",
       "      <td>29.1250</td>\n",
       "    </tr>\n",
       "    <tr>\n",
       "      <th>17</th>\n",
       "      <td>male</td>\n",
       "      <td>13.0000</td>\n",
       "    </tr>\n",
       "    <tr>\n",
       "      <th>18</th>\n",
       "      <td>female</td>\n",
       "      <td>18.0000</td>\n",
       "    </tr>\n",
       "    <tr>\n",
       "      <th>19</th>\n",
       "      <td>female</td>\n",
       "      <td>7.2250</td>\n",
       "    </tr>\n",
       "    <tr>\n",
       "      <th>20</th>\n",
       "      <td>male</td>\n",
       "      <td>26.0000</td>\n",
       "    </tr>\n",
       "    <tr>\n",
       "      <th>21</th>\n",
       "      <td>male</td>\n",
       "      <td>13.0000</td>\n",
       "    </tr>\n",
       "    <tr>\n",
       "      <th>22</th>\n",
       "      <td>female</td>\n",
       "      <td>8.0292</td>\n",
       "    </tr>\n",
       "    <tr>\n",
       "      <th>23</th>\n",
       "      <td>male</td>\n",
       "      <td>35.5000</td>\n",
       "    </tr>\n",
       "    <tr>\n",
       "      <th>24</th>\n",
       "      <td>female</td>\n",
       "      <td>21.0750</td>\n",
       "    </tr>\n",
       "    <tr>\n",
       "      <th>25</th>\n",
       "      <td>female</td>\n",
       "      <td>31.3875</td>\n",
       "    </tr>\n",
       "    <tr>\n",
       "      <th>26</th>\n",
       "      <td>male</td>\n",
       "      <td>7.2250</td>\n",
       "    </tr>\n",
       "    <tr>\n",
       "      <th>27</th>\n",
       "      <td>male</td>\n",
       "      <td>263.0000</td>\n",
       "    </tr>\n",
       "    <tr>\n",
       "      <th>28</th>\n",
       "      <td>female</td>\n",
       "      <td>7.8792</td>\n",
       "    </tr>\n",
       "    <tr>\n",
       "      <th>29</th>\n",
       "      <td>male</td>\n",
       "      <td>7.8958</td>\n",
       "    </tr>\n",
       "    <tr>\n",
       "      <th>...</th>\n",
       "      <td>...</td>\n",
       "      <td>...</td>\n",
       "    </tr>\n",
       "    <tr>\n",
       "      <th>861</th>\n",
       "      <td>male</td>\n",
       "      <td>11.5000</td>\n",
       "    </tr>\n",
       "    <tr>\n",
       "      <th>862</th>\n",
       "      <td>female</td>\n",
       "      <td>25.9292</td>\n",
       "    </tr>\n",
       "    <tr>\n",
       "      <th>863</th>\n",
       "      <td>female</td>\n",
       "      <td>69.5500</td>\n",
       "    </tr>\n",
       "    <tr>\n",
       "      <th>864</th>\n",
       "      <td>male</td>\n",
       "      <td>13.0000</td>\n",
       "    </tr>\n",
       "    <tr>\n",
       "      <th>865</th>\n",
       "      <td>female</td>\n",
       "      <td>13.0000</td>\n",
       "    </tr>\n",
       "    <tr>\n",
       "      <th>866</th>\n",
       "      <td>female</td>\n",
       "      <td>13.8583</td>\n",
       "    </tr>\n",
       "    <tr>\n",
       "      <th>867</th>\n",
       "      <td>male</td>\n",
       "      <td>50.4958</td>\n",
       "    </tr>\n",
       "    <tr>\n",
       "      <th>868</th>\n",
       "      <td>male</td>\n",
       "      <td>9.5000</td>\n",
       "    </tr>\n",
       "    <tr>\n",
       "      <th>869</th>\n",
       "      <td>male</td>\n",
       "      <td>11.1333</td>\n",
       "    </tr>\n",
       "    <tr>\n",
       "      <th>870</th>\n",
       "      <td>male</td>\n",
       "      <td>7.8958</td>\n",
       "    </tr>\n",
       "    <tr>\n",
       "      <th>871</th>\n",
       "      <td>female</td>\n",
       "      <td>52.5542</td>\n",
       "    </tr>\n",
       "    <tr>\n",
       "      <th>872</th>\n",
       "      <td>male</td>\n",
       "      <td>5.0000</td>\n",
       "    </tr>\n",
       "    <tr>\n",
       "      <th>873</th>\n",
       "      <td>male</td>\n",
       "      <td>9.0000</td>\n",
       "    </tr>\n",
       "    <tr>\n",
       "      <th>874</th>\n",
       "      <td>female</td>\n",
       "      <td>24.0000</td>\n",
       "    </tr>\n",
       "    <tr>\n",
       "      <th>875</th>\n",
       "      <td>female</td>\n",
       "      <td>7.2250</td>\n",
       "    </tr>\n",
       "    <tr>\n",
       "      <th>876</th>\n",
       "      <td>male</td>\n",
       "      <td>9.8458</td>\n",
       "    </tr>\n",
       "    <tr>\n",
       "      <th>877</th>\n",
       "      <td>male</td>\n",
       "      <td>7.8958</td>\n",
       "    </tr>\n",
       "    <tr>\n",
       "      <th>878</th>\n",
       "      <td>male</td>\n",
       "      <td>7.8958</td>\n",
       "    </tr>\n",
       "    <tr>\n",
       "      <th>879</th>\n",
       "      <td>female</td>\n",
       "      <td>83.1583</td>\n",
       "    </tr>\n",
       "    <tr>\n",
       "      <th>880</th>\n",
       "      <td>female</td>\n",
       "      <td>26.0000</td>\n",
       "    </tr>\n",
       "    <tr>\n",
       "      <th>881</th>\n",
       "      <td>male</td>\n",
       "      <td>7.8958</td>\n",
       "    </tr>\n",
       "    <tr>\n",
       "      <th>882</th>\n",
       "      <td>female</td>\n",
       "      <td>10.5167</td>\n",
       "    </tr>\n",
       "    <tr>\n",
       "      <th>883</th>\n",
       "      <td>male</td>\n",
       "      <td>10.5000</td>\n",
       "    </tr>\n",
       "    <tr>\n",
       "      <th>884</th>\n",
       "      <td>male</td>\n",
       "      <td>7.0500</td>\n",
       "    </tr>\n",
       "    <tr>\n",
       "      <th>885</th>\n",
       "      <td>female</td>\n",
       "      <td>29.1250</td>\n",
       "    </tr>\n",
       "    <tr>\n",
       "      <th>886</th>\n",
       "      <td>male</td>\n",
       "      <td>13.0000</td>\n",
       "    </tr>\n",
       "    <tr>\n",
       "      <th>887</th>\n",
       "      <td>female</td>\n",
       "      <td>30.0000</td>\n",
       "    </tr>\n",
       "    <tr>\n",
       "      <th>888</th>\n",
       "      <td>female</td>\n",
       "      <td>23.4500</td>\n",
       "    </tr>\n",
       "    <tr>\n",
       "      <th>889</th>\n",
       "      <td>male</td>\n",
       "      <td>30.0000</td>\n",
       "    </tr>\n",
       "    <tr>\n",
       "      <th>890</th>\n",
       "      <td>male</td>\n",
       "      <td>7.7500</td>\n",
       "    </tr>\n",
       "  </tbody>\n",
       "</table>\n",
       "<p>891 rows × 2 columns</p>\n",
       "</div>"
      ],
      "text/plain": [
       "        sex      fare\n",
       "0      male    7.2500\n",
       "1    female   71.2833\n",
       "2    female    7.9250\n",
       "3    female   53.1000\n",
       "4      male    8.0500\n",
       "5      male    8.4583\n",
       "6      male   51.8625\n",
       "7      male   21.0750\n",
       "8    female   11.1333\n",
       "9    female   30.0708\n",
       "10   female   16.7000\n",
       "11   female   26.5500\n",
       "12     male    8.0500\n",
       "13     male   31.2750\n",
       "14   female    7.8542\n",
       "15   female   16.0000\n",
       "16     male   29.1250\n",
       "17     male   13.0000\n",
       "18   female   18.0000\n",
       "19   female    7.2250\n",
       "20     male   26.0000\n",
       "21     male   13.0000\n",
       "22   female    8.0292\n",
       "23     male   35.5000\n",
       "24   female   21.0750\n",
       "25   female   31.3875\n",
       "26     male    7.2250\n",
       "27     male  263.0000\n",
       "28   female    7.8792\n",
       "29     male    7.8958\n",
       "..      ...       ...\n",
       "861    male   11.5000\n",
       "862  female   25.9292\n",
       "863  female   69.5500\n",
       "864    male   13.0000\n",
       "865  female   13.0000\n",
       "866  female   13.8583\n",
       "867    male   50.4958\n",
       "868    male    9.5000\n",
       "869    male   11.1333\n",
       "870    male    7.8958\n",
       "871  female   52.5542\n",
       "872    male    5.0000\n",
       "873    male    9.0000\n",
       "874  female   24.0000\n",
       "875  female    7.2250\n",
       "876    male    9.8458\n",
       "877    male    7.8958\n",
       "878    male    7.8958\n",
       "879  female   83.1583\n",
       "880  female   26.0000\n",
       "881    male    7.8958\n",
       "882  female   10.5167\n",
       "883    male   10.5000\n",
       "884    male    7.0500\n",
       "885  female   29.1250\n",
       "886    male   13.0000\n",
       "887  female   30.0000\n",
       "888  female   23.4500\n",
       "889    male   30.0000\n",
       "890    male    7.7500\n",
       "\n",
       "[891 rows x 2 columns]"
      ]
     },
     "execution_count": 7,
     "metadata": {},
     "output_type": "execute_result"
    }
   ],
   "source": [
    "\n",
    "df[[\"sex\",\"fare\"]]"
   ]
  },
  {
   "cell_type": "markdown",
   "metadata": {},
   "source": [
    "#### You can view either the first N or last N set of rows"
   ]
  },
  {
   "cell_type": "code",
   "execution_count": 8,
   "metadata": {
    "collapsed": false
   },
   "outputs": [
    {
     "name": "stdout",
     "output_type": "stream",
     "text": [
      "   survived  pclass                                               name  \\\n",
      "0         0       3                            Braund, Mr. Owen Harris   \n",
      "1         1       1  Cumings, Mrs. John Bradley (Florence Briggs Th...   \n",
      "2         1       3                             Heikkinen, Miss. Laina   \n",
      "3         1       1       Futrelle, Mrs. Jacques Heath (Lily May Peel)   \n",
      "4         0       3                           Allen, Mr. William Henry   \n",
      "\n",
      "      sex   age  sibsp  parch            ticket     fare cabin embarked  \n",
      "0    male  22.0      1      0         A/5 21171   7.2500   NaN        S  \n",
      "1  female  38.0      1      0          PC 17599  71.2833   C85        C  \n",
      "2  female  26.0      0      0  STON/O2. 3101282   7.9250   NaN        S  \n",
      "3  female  35.0      1      0            113803  53.1000  C123        S  \n",
      "4    male  35.0      0      0            373450   8.0500   NaN        S  \n",
      "     survived  pclass                                      name     sex   age  \\\n",
      "886         0       2                     Montvila, Rev. Juozas    male  27.0   \n",
      "887         1       1              Graham, Miss. Margaret Edith  female  19.0   \n",
      "888         0       3  Johnston, Miss. Catherine Helen \"Carrie\"  female   NaN   \n",
      "889         1       1                     Behr, Mr. Karl Howell    male  26.0   \n",
      "890         0       3                       Dooley, Mr. Patrick    male  32.0   \n",
      "\n",
      "     sibsp  parch      ticket   fare cabin embarked  \n",
      "886      0      0      211536  13.00   NaN        S  \n",
      "887      0      0      112053  30.00   B42        S  \n",
      "888      1      2  W./C. 6607  23.45   NaN        S  \n",
      "889      0      0      111369  30.00  C148        C  \n",
      "890      0      0      370376   7.75   NaN        Q  \n"
     ]
    }
   ],
   "source": [
    "N = 5\n",
    "print df.head(5)\n",
    "print df.tail(5)"
   ]
  },
  {
   "cell_type": "markdown",
   "metadata": {},
   "source": [
    "#### You can recode a variable by mapping on the old value to new values"
   ]
  },
  {
   "cell_type": "code",
   "execution_count": 9,
   "metadata": {
    "collapsed": false
   },
   "outputs": [
    {
     "data": {
      "text/plain": [
       "0       lower\n",
       "1       upper\n",
       "2       lower\n",
       "3       upper\n",
       "4       lower\n",
       "5       lower\n",
       "6       upper\n",
       "7       lower\n",
       "8       lower\n",
       "9      middle\n",
       "10      lower\n",
       "11      upper\n",
       "12      lower\n",
       "13      lower\n",
       "14      lower\n",
       "15     middle\n",
       "16      lower\n",
       "17     middle\n",
       "18      lower\n",
       "19      lower\n",
       "20     middle\n",
       "21     middle\n",
       "22      lower\n",
       "23      upper\n",
       "24      lower\n",
       "25      lower\n",
       "26      lower\n",
       "27      upper\n",
       "28      lower\n",
       "29      lower\n",
       "        ...  \n",
       "861    middle\n",
       "862     upper\n",
       "863     lower\n",
       "864    middle\n",
       "865    middle\n",
       "866    middle\n",
       "867     upper\n",
       "868     lower\n",
       "869     lower\n",
       "870     lower\n",
       "871     upper\n",
       "872     upper\n",
       "873     lower\n",
       "874    middle\n",
       "875     lower\n",
       "876     lower\n",
       "877     lower\n",
       "878     lower\n",
       "879     upper\n",
       "880    middle\n",
       "881     lower\n",
       "882     lower\n",
       "883    middle\n",
       "884     lower\n",
       "885     lower\n",
       "886    middle\n",
       "887     upper\n",
       "888     lower\n",
       "889     upper\n",
       "890     lower\n",
       "Name: pclass, dtype: object"
      ]
     },
     "execution_count": 9,
     "metadata": {},
     "output_type": "execute_result"
    }
   ],
   "source": [
    "df['pclass'] = df[\"pclass\"].astype(\"str\")\n",
    "df[\"pclass\"].replace({'1': 'upper', '2' : 'middle', '3' : \"lower\"})"
   ]
  },
  {
   "cell_type": "code",
   "execution_count": null,
   "metadata": {
    "collapsed": true
   },
   "outputs": [],
   "source": []
  },
  {
   "cell_type": "code",
   "execution_count": 10,
   "metadata": {
    "collapsed": false
   },
   "outputs": [
    {
     "name": "stdout",
     "output_type": "stream",
     "text": [
      "0      adult\n",
      "1      adult\n",
      "2      adult\n",
      "3      adult\n",
      "4      adult\n",
      "5        NaN\n",
      "6      adult\n",
      "7      child\n",
      "8      adult\n",
      "9      child\n",
      "10     child\n",
      "11     adult\n",
      "12     adult\n",
      "13     adult\n",
      "14     child\n",
      "15     adult\n",
      "16     child\n",
      "17       NaN\n",
      "18     adult\n",
      "19       NaN\n",
      "20     adult\n",
      "21     adult\n",
      "22     child\n",
      "23     adult\n",
      "24     child\n",
      "25     adult\n",
      "26       NaN\n",
      "27     adult\n",
      "28       NaN\n",
      "29       NaN\n",
      "       ...  \n",
      "861    adult\n",
      "862    adult\n",
      "863      NaN\n",
      "864    adult\n",
      "865    adult\n",
      "866    adult\n",
      "867    adult\n",
      "868      NaN\n",
      "869    child\n",
      "870    adult\n",
      "871    adult\n",
      "872    adult\n",
      "873    adult\n",
      "874    adult\n",
      "875    child\n",
      "876    adult\n",
      "877    adult\n",
      "878      NaN\n",
      "879    adult\n",
      "880    adult\n",
      "881    adult\n",
      "882    adult\n",
      "883    adult\n",
      "884    adult\n",
      "885    adult\n",
      "886    adult\n",
      "887    adult\n",
      "888      NaN\n",
      "889    adult\n",
      "890    adult\n",
      "Name: age_recode, dtype: object\n"
     ]
    }
   ],
   "source": [
    "df.ix[df.age >= 18, 'age_recode'] = \"adult\"\n",
    "df.ix[df.age < 18, 'age_recode'] = \"child\"\n",
    "print df['age_recode']"
   ]
  },
  {
   "cell_type": "markdown",
   "metadata": {},
   "source": [
    "#### You can create new variables"
   ]
  },
  {
   "cell_type": "code",
   "execution_count": 11,
   "metadata": {
    "collapsed": false
   },
   "outputs": [
    {
     "name": "stdout",
     "output_type": "stream",
     "text": [
      "     sibsp  parch  familymembers\n",
      "0        1      0              1\n",
      "1        1      0              1\n",
      "2        0      0              0\n",
      "3        1      0              1\n",
      "4        0      0              0\n",
      "5        0      0              0\n",
      "6        0      0              0\n",
      "7        3      1              4\n",
      "8        0      2              2\n",
      "9        1      0              1\n",
      "10       1      1              2\n",
      "11       0      0              0\n",
      "12       0      0              0\n",
      "13       1      5              6\n",
      "14       0      0              0\n",
      "15       0      0              0\n",
      "16       4      1              5\n",
      "17       0      0              0\n",
      "18       1      0              1\n",
      "19       0      0              0\n",
      "20       0      0              0\n",
      "21       0      0              0\n",
      "22       0      0              0\n",
      "23       0      0              0\n",
      "24       3      1              4\n",
      "25       1      5              6\n",
      "26       0      0              0\n",
      "27       3      2              5\n",
      "28       0      0              0\n",
      "29       0      0              0\n",
      "..     ...    ...            ...\n",
      "861      1      0              1\n",
      "862      0      0              0\n",
      "863      8      2             10\n",
      "864      0      0              0\n",
      "865      0      0              0\n",
      "866      1      0              1\n",
      "867      0      0              0\n",
      "868      0      0              0\n",
      "869      1      1              2\n",
      "870      0      0              0\n",
      "871      1      1              2\n",
      "872      0      0              0\n",
      "873      0      0              0\n",
      "874      1      0              1\n",
      "875      0      0              0\n",
      "876      0      0              0\n",
      "877      0      0              0\n",
      "878      0      0              0\n",
      "879      0      1              1\n",
      "880      0      1              1\n",
      "881      0      0              0\n",
      "882      0      0              0\n",
      "883      0      0              0\n",
      "884      0      0              0\n",
      "885      0      5              5\n",
      "886      0      0              0\n",
      "887      0      0              0\n",
      "888      1      2              3\n",
      "889      0      0              0\n",
      "890      0      0              0\n",
      "\n",
      "[891 rows x 3 columns]\n"
     ]
    }
   ],
   "source": [
    "df[\"familymembers\"] = df[\"sibsp\"] + df[\"parch\"] \n",
    "print df[[\"sibsp\",\"parch\",\"familymembers\"]]"
   ]
  },
  {
   "cell_type": "markdown",
   "metadata": {},
   "source": [
    "#### You can code variables by their range"
   ]
  },
  {
   "cell_type": "code",
   "execution_count": 12,
   "metadata": {
    "collapsed": false
   },
   "outputs": [],
   "source": [
    "df[\"alone_or_group\"] = df['familymembers'].apply(lambda x: 'alone' if x < 1 else 'group')"
   ]
  },
  {
   "cell_type": "markdown",
   "metadata": {},
   "source": [
    "#### You can combine two different data sources that share a common attribute (e.g., \"name\")"
   ]
  },
  {
   "cell_type": "code",
   "execution_count": 14,
   "metadata": {
    "collapsed": false
   },
   "outputs": [
    {
     "name": "stdout",
     "output_type": "stream",
     "text": [
      "                                                  name  survived      fare\n",
      "0                              Braund, Mr. Owen Harris         0    7.2500\n",
      "1    Cumings, Mrs. John Bradley (Florence Briggs Th...         1   71.2833\n",
      "2                               Heikkinen, Miss. Laina         1    7.9250\n",
      "3         Futrelle, Mrs. Jacques Heath (Lily May Peel)         1   53.1000\n",
      "4                             Allen, Mr. William Henry         0    8.0500\n",
      "5                                     Moran, Mr. James         0    8.4583\n",
      "6                              McCarthy, Mr. Timothy J         0   51.8625\n",
      "7                       Palsson, Master. Gosta Leonard         0   21.0750\n",
      "8    Johnson, Mrs. Oscar W (Elisabeth Vilhelmina Berg)         1   11.1333\n",
      "9                  Nasser, Mrs. Nicholas (Adele Achem)         1   30.0708\n",
      "10                     Sandstrom, Miss. Marguerite Rut         1   16.7000\n",
      "11                            Bonnell, Miss. Elizabeth         1   26.5500\n",
      "12                      Saundercock, Mr. William Henry         0    8.0500\n",
      "13                         Andersson, Mr. Anders Johan         0   31.2750\n",
      "14                Vestrom, Miss. Hulda Amanda Adolfina         0    7.8542\n",
      "15                    Hewlett, Mrs. (Mary D Kingcome)          1   16.0000\n",
      "16                                Rice, Master. Eugene         0   29.1250\n",
      "17                        Williams, Mr. Charles Eugene         1   13.0000\n",
      "18   Vander Planke, Mrs. Julius (Emelia Maria Vande...         0   18.0000\n",
      "19                             Masselmani, Mrs. Fatima         1    7.2250\n",
      "20                                Fynney, Mr. Joseph J         0   26.0000\n",
      "21                               Beesley, Mr. Lawrence         1   13.0000\n",
      "22                         McGowan, Miss. Anna \"Annie\"         1    8.0292\n",
      "23                        Sloper, Mr. William Thompson         1   35.5000\n",
      "24                       Palsson, Miss. Torborg Danira         0   21.0750\n",
      "25   Asplund, Mrs. Carl Oscar (Selma Augusta Emilia...         1   31.3875\n",
      "26                             Emir, Mr. Farred Chehab         0    7.2250\n",
      "27                      Fortune, Mr. Charles Alexander         0  263.0000\n",
      "28                       O'Dwyer, Miss. Ellen \"Nellie\"         1    7.8792\n",
      "29                                 Todoroff, Mr. Lalio         0    7.8958\n",
      "..                                                 ...       ...       ...\n",
      "861                        Giles, Mr. Frederick Edward         0   11.5000\n",
      "862  Swift, Mrs. Frederick Joel (Margaret Welles Ba...         1   25.9292\n",
      "863                  Sage, Miss. Dorothy Edith \"Dolly\"         0   69.5500\n",
      "864                             Gill, Mr. John William         0   13.0000\n",
      "865                           Bystrom, Mrs. (Karolina)         1   13.0000\n",
      "866                       Duran y More, Miss. Asuncion         1   13.8583\n",
      "867               Roebling, Mr. Washington Augustus II         0   50.4958\n",
      "868                        van Melkebeke, Mr. Philemon         0    9.5000\n",
      "869                    Johnson, Master. Harold Theodor         1   11.1333\n",
      "870                                  Balkic, Mr. Cerin         0    7.8958\n",
      "871   Beckwith, Mrs. Richard Leonard (Sallie Monypeny)         1   52.5542\n",
      "872                           Carlsson, Mr. Frans Olof         0    5.0000\n",
      "873                        Vander Cruyssen, Mr. Victor         0    9.0000\n",
      "874              Abelson, Mrs. Samuel (Hannah Wizosky)         1   24.0000\n",
      "875                   Najib, Miss. Adele Kiamie \"Jane\"         1    7.2250\n",
      "876                      Gustafsson, Mr. Alfred Ossian         0    9.8458\n",
      "877                               Petroff, Mr. Nedelio         0    7.8958\n",
      "878                                 Laleff, Mr. Kristo         0    7.8958\n",
      "879      Potter, Mrs. Thomas Jr (Lily Alexenia Wilson)         1   83.1583\n",
      "880       Shelley, Mrs. William (Imanita Parrish Hall)         1   26.0000\n",
      "881                                 Markun, Mr. Johann         0    7.8958\n",
      "882                       Dahlberg, Miss. Gerda Ulrika         0   10.5167\n",
      "883                      Banfield, Mr. Frederick James         0   10.5000\n",
      "884                             Sutehall, Mr. Henry Jr         0    7.0500\n",
      "885               Rice, Mrs. William (Margaret Norton)         0   29.1250\n",
      "886                              Montvila, Rev. Juozas         0   13.0000\n",
      "887                       Graham, Miss. Margaret Edith         1   30.0000\n",
      "888           Johnston, Miss. Catherine Helen \"Carrie\"         0   23.4500\n",
      "889                              Behr, Mr. Karl Howell         1   30.0000\n",
      "890                                Dooley, Mr. Patrick         0    7.7500\n",
      "\n",
      "[891 rows x 3 columns]\n"
     ]
    }
   ],
   "source": [
    "survivors = df[[\"name\",\"survived\"]]\n",
    "ticketprices = df[[\"name\",\"fare\"]]\n",
    "merged = survivors.merge(ticketprices, left_on=\"name\", right_on=\"name\")\n",
    "print merged"
   ]
  },
  {
   "cell_type": "markdown",
   "metadata": {},
   "source": [
    "## Examine Categorical Variables for Irregularities"
   ]
  },
  {
   "cell_type": "markdown",
   "metadata": {},
   "source": [
    "#### Examine the different values entered"
   ]
  },
  {
   "cell_type": "code",
   "execution_count": null,
   "metadata": {
    "collapsed": false
   },
   "outputs": [],
   "source": [
    "pd.unique(df[\"sex\"])"
   ]
  },
  {
   "cell_type": "markdown",
   "metadata": {},
   "source": [
    "#### Make all string values lowercase"
   ]
  },
  {
   "cell_type": "code",
   "execution_count": null,
   "metadata": {
    "collapsed": false
   },
   "outputs": [],
   "source": [
    "df['name'] = df['name'].apply(lambda x: x.lower())\n",
    "print df['name']"
   ]
  },
  {
   "cell_type": "markdown",
   "metadata": {},
   "source": [
    "#### Fix string values that might have an extra hidden spae before or after"
   ]
  },
  {
   "cell_type": "code",
   "execution_count": null,
   "metadata": {
    "collapsed": false
   },
   "outputs": [],
   "source": [
    "df['name'] = df['name'].apply(lambda x: x.strip())\n",
    "print df['name']"
   ]
  },
  {
   "cell_type": "markdown",
   "metadata": {},
   "source": [
    "####  Fix string values that might be mispelled"
   ]
  },
  {
   "cell_type": "code",
   "execution_count": null,
   "metadata": {
    "collapsed": false
   },
   "outputs": [],
   "source": [
    "import difflib\n",
    "df['sex'] = df['sex'].apply(lambda x: difflib.get_close_matches(x,[\"male\",\"female\"])[0])\n",
    "print df['sex']"
   ]
  },
  {
   "cell_type": "markdown",
   "metadata": {},
   "source": [
    "## Examine quantitative variables for irregularities"
   ]
  },
  {
   "cell_type": "markdown",
   "metadata": {},
   "source": [
    "#### View the central tendency, variability, minimum, maximum, and quartiles to check for impossible or unexpect values"
   ]
  },
  {
   "cell_type": "code",
   "execution_count": null,
   "metadata": {
    "collapsed": false
   },
   "outputs": [],
   "source": [
    "df[\"fare\"].describe()"
   ]
  },
  {
   "cell_type": "markdown",
   "metadata": {},
   "source": [
    "#### View a histogram that shows the distribution of the variables."
   ]
  },
  {
   "cell_type": "code",
   "execution_count": null,
   "metadata": {
    "collapsed": false
   },
   "outputs": [],
   "source": [
    "import matplotlib.pyplot as plt\n",
    "plt.figure();\n",
    "df[\"fare\"].plot.hist(alpha=0.5)\n",
    "plt.show()"
   ]
  },
  {
   "cell_type": "markdown",
   "metadata": {},
   "source": [
    "#### Restrict the values that data can take (upper and lower limits)"
   ]
  },
  {
   "cell_type": "code",
   "execution_count": null,
   "metadata": {
    "collapsed": false
   },
   "outputs": [],
   "source": [
    "df.loc[:,'age'] = df['age'].clip(lower=0, upper=100)"
   ]
  },
  {
   "cell_type": "markdown",
   "metadata": {},
   "source": [
    "## Handling Missing Data"
   ]
  },
  {
   "cell_type": "markdown",
   "metadata": {},
   "source": [
    "#### Checking for missing data"
   ]
  },
  {
   "cell_type": "code",
   "execution_count": null,
   "metadata": {
    "collapsed": false
   },
   "outputs": [],
   "source": [
    "missing_count = df['age'].isnull().sum()\n",
    "print missing_count\n",
    "\n",
    "missing_data = df[pd.isnull(df['age'])]\n",
    "print missing_data"
   ]
  },
  {
   "cell_type": "markdown",
   "metadata": {},
   "source": [
    "#### Drop rows that have a missing value for age"
   ]
  },
  {
   "cell_type": "code",
   "execution_count": null,
   "metadata": {
    "collapsed": false
   },
   "outputs": [],
   "source": [
    "df = df[pd.notnull(df['age'])]\n",
    "print df['age']"
   ]
  },
  {
   "cell_type": "markdown",
   "metadata": {},
   "source": [
    "#### Replace missing values with the:\n",
    "   1) median (middle value) for that column\n",
    "   \n",
    "   2) mode (most frequent value) for that column"
   ]
  },
  {
   "cell_type": "code",
   "execution_count": null,
   "metadata": {
    "collapsed": false
   },
   "outputs": [],
   "source": [
    "df['age_medianimpute'] = df['age'].fillna(df['age'].median())\n",
    "df['age_modeimpute'] = df['age'].fillna(df['age'].mode())"
   ]
  },
  {
   "cell_type": "markdown",
   "metadata": {},
   "source": [
    "#### Replace missing values with the likely value"
   ]
  },
  {
   "cell_type": "markdown",
   "metadata": {},
   "source": [
    "#### Use a linear regression formula to predict what the missing value would have been"
   ]
  },
  {
   "cell_type": "code",
   "execution_count": null,
   "metadata": {
    "collapsed": false
   },
   "outputs": [],
   "source": [
    "from sklearn import linear_model, preprocessing\n",
    "import numpy as np\n",
    "\n",
    "\n",
    "sex_encoder = preprocessing.LabelEncoder().fit(df[\"sex\"])\n",
    "df['sex_coded'] = sex_encoder.transform(df[\"sex\"])\n",
    "\n",
    "df_complete = df.dropna()\n",
    "regr = linear_model.LinearRegression()\n",
    "regr.fit(df_complete[[\"fare\",\"sex_coded\"]],df_complete['age'])\n",
    "\n",
    "df.loc[:,'age'] = df.apply(lambda x: regr.predict(df[[\"fare\",\"sex_coded\"]])[0] if pd.isnull(x['age']) else x['age'], axis=1)"
   ]
  },
  {
   "cell_type": "markdown",
   "metadata": {},
   "source": [
    "#### Use the 2 most similar cases to predict what the missing value would have been"
   ]
  },
  {
   "cell_type": "code",
   "execution_count": null,
   "metadata": {
    "collapsed": false
   },
   "outputs": [],
   "source": [
    "from sklearn.neighbors import KNeighborsRegressor\n",
    "\n",
    "sex_encoder = preprocessing.LabelEncoder().fit(df[\"sex\"])\n",
    "df['sex_coded'] = sex_encoder.transform(df[\"sex\"])\n",
    "\n",
    "\n",
    "pclass_encoder = preprocessing.LabelEncoder().fit(df[\"pclass\"])\n",
    "df['pclass_coded'] = pclass_encoder.transform(df[\"pclass\"])\n",
    "\n",
    "df_complete = df.dropna()\n",
    "\n",
    "neigh = KNeighborsRegressor(n_neighbors=2)\n",
    "neigh.fit(df_complete[[\"fare\",\"sex_coded\",\"pclass_coded\",\"sibsp\"]], df_complete[\"age\"])\n",
    "\n",
    "df.loc[:,'age'] = df.apply(lambda x: neigh.predict(df[[\"fare\",\"sex_coded\",\"pclass_coded\",\"sibsp\"]])[0] if pd.isnull(x['age']) else x['age'], axis=1)\n"
   ]
  },
  {
   "cell_type": "markdown",
   "metadata": {},
   "source": [
    "## Apply the lesson"
   ]
  },
  {
   "cell_type": "markdown",
   "metadata": {},
   "source": [
    "#### Import the pandas library (call it pd for short). \n",
    "\n",
    "#### Read in the dataset called \"redwinequality.csv\" in the datasets folder and save it to a dataframe called \"df\""
   ]
  },
  {
   "cell_type": "code",
   "execution_count": 1,
   "metadata": {
    "collapsed": true
   },
   "outputs": [],
   "source": [
    "import pandas as pd\n",
    "df = pd.read_csv('../dataset/redwinequality.csv')"
   ]
  },
  {
   "cell_type": "markdown",
   "metadata": {},
   "source": [
    "#### What are the variables collected on each wines?"
   ]
  },
  {
   "cell_type": "code",
   "execution_count": 2,
   "metadata": {
    "collapsed": false
   },
   "outputs": [
    {
     "name": "stdout",
     "output_type": "stream",
     "text": [
      "['fixedacidity', 'volatileacidity', 'citricacid', 'residualsugar', 'chlorides', 'freesulfurdioxide', 'totalsulfurdioxide', 'density', 'pH', 'sulphates', 'alcohol', 'quality']\n"
     ]
    }
   ],
   "source": [
    "print list(df.columns.values)"
   ]
  },
  {
   "cell_type": "markdown",
   "metadata": {},
   "source": [
    "#### What is the maximum and minimum pH value?"
   ]
  },
  {
   "cell_type": "code",
   "execution_count": 3,
   "metadata": {
    "collapsed": false
   },
   "outputs": [
    {
     "name": "stdout",
     "output_type": "stream",
     "text": [
      "4.01\n",
      "2.74\n",
      "count    1599.000000\n",
      "mean        3.311113\n",
      "std         0.154386\n",
      "min         2.740000\n",
      "25%         3.210000\n",
      "50%         3.310000\n",
      "75%         3.400000\n",
      "max         4.010000\n",
      "Name: pH, dtype: float64\n"
     ]
    }
   ],
   "source": [
    "print df['pH'].max()\n",
    "print df['pH'].min()\n",
    "\n",
    "#or \n",
    "\n",
    "print df['pH'].describe()"
   ]
  },
  {
   "cell_type": "markdown",
   "metadata": {},
   "source": [
    "#### How does the distribution of quality ratings look like?"
   ]
  },
  {
   "cell_type": "code",
   "execution_count": null,
   "metadata": {
    "collapsed": true
   },
   "outputs": [],
   "source": [
    "import matplotlib.pyplot as plt\n",
    "plt.figure();\n",
    "df[\"quality\"].plot.hist(alpha=0.5)\n",
    "plt.show()"
   ]
  },
  {
   "cell_type": "markdown",
   "metadata": {},
   "source": [
    "#### Some of the volatile acidity measurements are missing. How many of the measurements are missing? What proportion of wines are missing a volatile acidity rating?"
   ]
  },
  {
   "cell_type": "code",
   "execution_count": null,
   "metadata": {
    "collapsed": false
   },
   "outputs": [],
   "source": [
    "missing_count = df['volatileacidity'].isnull().sum()\n",
    "print missing_count\n",
    "print missing_count / float(len(df.index))"
   ]
  },
  {
   "cell_type": "markdown",
   "metadata": {},
   "source": [
    "#### Fill in the missing values for volatile acidity with the median. Create a new column with the filled in missing data. Call that column: va_medianimpute"
   ]
  },
  {
   "cell_type": "code",
   "execution_count": null,
   "metadata": {
    "collapsed": false
   },
   "outputs": [],
   "source": [
    "df['va_medianimpute'] = df['volatileacidity'].fillna(df['volatileacidity'].median())"
   ]
  },
  {
   "cell_type": "markdown",
   "metadata": {},
   "source": [
    "#### Fill in the missing values for volatile acidity with using the 8 most similar cases/neighbors.  Base similarity off the variables: fixedacidity, citricacid, residualsugar, and chlorides\n",
    "\n",
    "#### Create a new column with the filled in missing data. Call that column: va_neighborimpute"
   ]
  },
  {
   "cell_type": "code",
   "execution_count": null,
   "metadata": {
    "collapsed": false
   },
   "outputs": [],
   "source": [
    "from sklearn.neighbors import KNeighborsRegressor\n",
    "\n",
    "df_complete = df.dropna()\n",
    "\n",
    "neigh = KNeighborsRegressor(n_neighbors=8)\n",
    "neigh.fit(df_complete[[\"fixedacidity\",\"citricacid\",\"residualsugar\",\"chlorides\"]], df_complete[\"volatileacidity\"])\n",
    "\n",
    "df.loc[:,'va_neighborimpute'] = df.apply(lambda x: neigh.predict(df[[\"fixedacidity\",\"citricacid\",\"residualsugar\",\"chlorides\"]])[0] if pd.isnull(x['volatileacidity']) else x['volatileacidity'], axis=1)"
   ]
  },
  {
   "cell_type": "markdown",
   "metadata": {},
   "source": [
    "#### Load in the complete wine dataset (redwinequality_complete.csv), which has the true values for the missing values. Call the dataframe: df_true\n",
    "\n",
    "#### Compare the absolute difference between the volatile acidity column of the complete dataset with va_medianimpute and the va_neighborimpute variables you created.\n",
    "\n",
    "#### Which imputation method has the smallest MEAN/AVERAGE absolute difference?"
   ]
  },
  {
   "cell_type": "code",
   "execution_count": null,
   "metadata": {
    "collapsed": false
   },
   "outputs": [],
   "source": [
    "df_true = pd.read_csv('../dataset/redwinequality_complete.csv')\n",
    "print (df_true[\"volatileacidity\"] - df['va_medianimpute']).abs().mean()\n",
    "print (df_true[\"volatileacidity\"] - df['va_neighborimpute']).abs().mean()"
   ]
  },
  {
   "cell_type": "markdown",
   "metadata": {
    "collapsed": true
   },
   "source": [
    "#### You want to recode the chlorides as either being \"high\" or \"low\" if the chloride level is above or below (or equal to) .25. Create a new variable called: \"chlorides_category\" that follows those rules. Show the new coded variable next to the old numeric variable."
   ]
  },
  {
   "cell_type": "code",
   "execution_count": null,
   "metadata": {
    "collapsed": false
   },
   "outputs": [],
   "source": [
    "df.chlorides.median()\n",
    "df.ix[df.chlorides > df.chlorides.median(), 'chlorides_category'] = \"high\"\n",
    "df.ix[df.chlorides <= df.chlorides.median(), 'chlorides_category'] = \"low\"\n",
    "print df[['chlorides', 'chlorides_category']]"
   ]
  }
 ],
 "metadata": {
  "kernelspec": {
   "display_name": "Python 2",
   "language": "python",
   "name": "python2"
  },
  "language_info": {
   "codemirror_mode": {
    "name": "ipython",
    "version": 2
   },
   "file_extension": ".py",
   "mimetype": "text/x-python",
   "name": "python",
   "nbconvert_exporter": "python",
   "pygments_lexer": "ipython2",
   "version": "2.7.11"
  }
 },
 "nbformat": 4,
 "nbformat_minor": 0
}
