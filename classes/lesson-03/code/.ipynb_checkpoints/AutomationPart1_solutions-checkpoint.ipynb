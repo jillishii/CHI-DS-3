{
 "cells": [
  {
   "cell_type": "markdown",
   "metadata": {},
   "source": [
    "### We're going to cover the basic of interacting with a webpage\n"
   ]
  },
  {
   "cell_type": "markdown",
   "metadata": {},
   "source": [
    "#### Table Parser Code\n",
    "\n",
    "Run the table parser code before continuing with the lesson\n"
   ]
  },
  {
   "cell_type": "code",
<<<<<<< Updated upstream
   "execution_count": null,
=======
   "execution_count": 1,
   "metadata": {
    "collapsed": true
   },
   "outputs": [],
   "source": [
    "import mechanize\n"
   ]
  },
  {
   "cell_type": "code",
   "execution_count": 2,
>>>>>>> Stashed changes
   "metadata": {
    "collapsed": true
   },
   "outputs": [],
   "source": [
    "#import the html parser that constructs of tree of tags and what's in them\n",
    "import lxml.html as ET\n",
    "\n",
    "#Let's make a function that reads tables and gets the useful information\n",
    "#content_string is the source code for the page\n",
    "#table_number is which table we should parse if there are multiple tables on the page. \n",
    "#The default value for table_number is 0, meaning retreive the first table\n",
    "def table_reader(source_code,table_number=0):\n",
    "    \n",
    "    #send the page html to the html parser\n",
    "    doc = ET.fromstring(source_code)\n",
    "    \n",
    "    #make an empty list to save our table into\n",
    "    data=[]\n",
    "    \n",
    "    #look in between the tags that say \"table\" and find all of the row elements, which are the <tr> tags \n",
    "    #the table indicates, which table on the page to retreive in case there are many\n",
    "    rows = doc.xpath(\"//table\")[table_number].findall(\"tr\")\n",
    "    \n",
    "    #go through the list of table rows    \n",
    "    for row in rows:\n",
    "        #append to our data all of the data in the cells of the row\n",
    "        data.append([c.text_content() for c in row.getchildren()])\n",
    "    \n",
    "    #return the data list\n",
    "    return data"
   ]
  },
  {
   "cell_type": "markdown",
   "metadata": {},
   "source": [
    "#### Interacting with Websites Automatically\n",
    "\n",
    "Sometimes, the data we need is within a site that doesn't have a url.\n",
    "\n",
    "Rather, we first have to interact with form, select the necessary information, and submit it by pressing a button.\n",
    "\n",
    "Look at this website, for example:\n",
    "http://www.chicagoelections.com/en/election3.asp\n",
    "\n",
<<<<<<< Updated upstream
    "Try to access the Mayoral Results for the 2015 Municipal Elections using your browser.\n",
    "\n",
    "After you access the results, try to get back to that results page directly without going through the form process.\n",
    "\n",
    "Is it even possible?"
=======
    "Try to access the Mayoral Results for the 2015 Municipal Elections.\n",
    "\n",
    "After you access the results, try to get back to the results page directly without going through the form process."
>>>>>>> Stashed changes
   ]
  },
  {
   "cell_type": "markdown",
   "metadata": {},
   "source": [
    "#### Automating the web browsing process with Mechanize\n",
    "\n",
    "We can use the mechanize library to emulate a browser, and interact with websites in an automated way.\n",
    "\n",
    "Make sure you have mechanize installed. If you do not, go to your commandline terminal and enter: pip install mechanize."
   ]
  },
  {
   "cell_type": "markdown",
   "metadata": {},
   "source": [
    "#### Creating the browser in Python\n",
    "\n",
    "We''ll first import the mechanize library\n",
    "\n",
    "Then, we'll create an object called br that is our browser.\n",
    "\n",
    "This object can interact with webpage, and perform the commands we give it"
   ]
  },
  {
   "cell_type": "code",
   "execution_count": null,
   "metadata": {
<<<<<<< Updated upstream
    "collapsed": false
=======
    "collapsed": true
>>>>>>> Stashed changes
   },
   "outputs": [],
   "source": [
    "import mechanize\n",
    "\n",
    "#start the mechanize browser\n",
    "br = mechanize.Browser()"
   ]
  },
  {
   "cell_type": "markdown",
   "metadata": {},
   "source": [
    "#### How to make the automated browser look more convincing to websites\n",
    "\n",
    "We have to tell the br object to ignore text files that some websites have called \"robots.txt\"\n",
    "\n",
    "These two lines bypass robot resriction and have our broswer able to pretend that is is a real browser"
   ]
  },
  {
   "cell_type": "code",
   "execution_count": null,
   "metadata": {
    "collapsed": false
   },
   "outputs": [],
   "source": [
    "#some websites have a txt file that say not to use a bot\n",
    "#the next lines tells mechanize to ignore it\n",
    "br.set_handle_robots(False)\n",
    "br.set_handle_equiv(False) \n",
    "\n",
    "#tell the mechanize browser to pretend it's a real Firefox Browser by setting the header information that is passed when a browser makes a request\n",
    "br.addheaders = [('User-agent', 'Mozilla/5.0 (X11; U; Linux i686; en-US; rv:1.9.0.1) Gecko/2008071615 Fedora/3.0.1-1.fc9 Firefox/3.0.1')]"
   ]
  },
  {
   "cell_type": "markdown",
   "metadata": {},
   "source": [
    "#### Accessing a website through an automated browser\n",
    "\n",
    "Now, we are ready to accessing websites\n",
    "\n",
    "We will tell our browser to open the website\n",
    "\n",
    "We can have have it print out the url it is on to verify"
   ]
  },
  {
   "cell_type": "code",
   "execution_count": null,
   "metadata": {
<<<<<<< Updated upstream
    "collapsed": false
=======
    "collapsed": true
>>>>>>> Stashed changes
   },
   "outputs": [],
   "source": [
    "#Have the mechanize browser open the webpage\n",
    "br.open(\"http://www.chicagoelections.com/en/election3.asp\")\n",
    "\n",
    "#Print out the url\n",
    "br.geturl()"
   ]
  },
  {
   "cell_type": "markdown",
   "metadata": {},
   "source": [
    "#### Interacting with forms and buttons on websites\n",
    "\n",
    "Because we are on the website, we can access the form.\n",
    "\n",
    "In mechanize, we can tell our browser to select a form by its name\n",
    "\n",
    "To know the name to pass on, we have to go to the website ourselves and see the name of the form in the page source.\n",
    "\n",
    "The name of the form is \"form1\"\n",
    "\n",
    "We create a form variable that holds the form and shows us our available elements to interact with"
   ]
  },
  {
   "cell_type": "code",
   "execution_count": null,
   "metadata": {
<<<<<<< Updated upstream
    "collapsed": false
=======
    "collapsed": true
>>>>>>> Stashed changes
   },
   "outputs": [],
   "source": [
    "#There is a form whose name \"form1\" \n",
    "#Tell the browser to select it\n",
<<<<<<< Updated upstream
    "br.select_form(name=\"form1\")"
=======
    "br.select_form(name=\"form1\")\n",
    "form = br.form\n",
    "print form"
>>>>>>> Stashed changes
   ]
  },
  {
   "cell_type": "markdown",
   "metadata": {},
   "source": [
    "#### Selecting an item from a drop-down menu\n",
    "\n",
    "Let's interact with the drop-down menu by selecting on of its elements and setting its value"
   ]
  },
  {
   "cell_type": "code",
   "execution_count": null,
   "metadata": {
<<<<<<< Updated upstream
    "collapsed": false
=======
    "collapsed": true
>>>>>>> Stashed changes
   },
   "outputs": [],
   "source": [
    "#There is an dropdown menu called \"D3\". It's gives list of options of results.\n",
    "#Set the value to be the Municipal General Elections Value\n",
<<<<<<< Updated upstream
    "br.form['D3'] = [\"2015 Municipal General - 2/24/15                  \"]\n",
    "print form"
=======
    "form['D3'] = [\"2015 Municipal General - 2/24/15                  \"]\n"
>>>>>>> Stashed changes
   ]
  },
  {
   "cell_type": "markdown",
   "metadata": {},
   "source": [
    "#### Submitting the form\n",
    "We can tell the broswer to submit the form, which should take us to the next page"
   ]
  },
  {
   "cell_type": "code",
   "execution_count": null,
   "metadata": {
<<<<<<< Updated upstream
    "collapsed": false
=======
    "collapsed": true
>>>>>>> Stashed changes
   },
   "outputs": [],
   "source": [
    "#Submit the form and be taken to the next page, which asks what information from the elections do you want\n",
    "response = br.submit()\n",
    "\n",
    "#print out the url to show it's a new page\n",
    "br.geturl()"
   ]
  },
  {
   "cell_type": "markdown",
   "metadata": {},
   "source": [
    "#### Repeating the process on the next page\n",
    "This new page has another form on it.\n",
    "\n",
    "The form wants us to select, which results we want from the election we selected in the first form.\n",
    "\n",
    "We'll select the mayor option this time"
   ]
  },
  {
   "cell_type": "code",
   "execution_count": null,
   "metadata": {
    "collapsed": true
   },
   "outputs": [],
   "source": [
    "br.select_form(name=\"form1\")\n",
<<<<<<< Updated upstream
    "br.form['D3'] = [\"Mayor\"]"
=======
    "form = br.form\n",
    "form['D3'] = [\"Mayor\"]"
>>>>>>> Stashed changes
   ]
  },
  {
   "cell_type": "markdown",
   "metadata": {},
   "source": [
    "#### Submitting the second form\n",
    "\n",
    "We'll submit this form, and be taken to the page that contains the table we want"
   ]
  },
  {
   "cell_type": "code",
   "execution_count": null,
   "metadata": {
<<<<<<< Updated upstream
    "collapsed": false
=======
    "collapsed": true
>>>>>>> Stashed changes
   },
   "outputs": [],
   "source": [
    "response = br.submit()\n",
    "br.geturl()"
   ]
  },
  {
   "cell_type": "markdown",
   "metadata": {},
   "source": [
    "#### Extracting the table information\n",
    "The last step is to get the page source code and pass it on to our table reader function\n",
    "\n",
    "The table reader function will return a list of lists that we'll call \"tabledata\""
   ]
  },
  {
   "cell_type": "code",
   "execution_count": null,
   "metadata": {
<<<<<<< Updated upstream
    "collapsed": false
=======
    "collapsed": true
>>>>>>> Stashed changes
   },
   "outputs": [],
   "source": [
    "content_string = response.read().encode(\"utf-8\")\n",
    "tabledata = table_reader(content_string)"
   ]
  },
  {
   "cell_type": "markdown",
   "metadata": {},
   "source": [
    "#### Saving the results in a dataframe\n",
    "\n",
    "We'll cutoff some unnecessary rows from the tabledata object and make a pandas DataFrame from it"
   ]
  },
  {
   "cell_type": "code",
   "execution_count": null,
   "metadata": {
<<<<<<< Updated upstream
    "collapsed": false
=======
    "collapsed": true
>>>>>>> Stashed changes
   },
   "outputs": [],
   "source": [
    "#remove unecessary title headers, which occur in the first two rows and last 3 rows\n",
    "#we just want the information in between (column headers, and data)\n",
    "data_no_title = tabledata[2:-4]\n",
    "\n",
    "import pandas as pd\n",
<<<<<<< Updated upstream
    "mayorvotes_df = pd.DataFrame(data_no_title[1:],columns=data_no_title[0])\n",
    "\n",
    "mayorvotes_df.head(10)"
=======
    "mayorvotes_df = pd.DataFrame(data_no_title[1:],columns=data_no_title[0])"
>>>>>>> Stashed changes
   ]
  },
  {
   "cell_type": "markdown",
   "metadata": {},
   "source": [
    "#### Try it yourself\n",
    "\n",
    "Imagine as a researcher your were interested in seeing how the mayoral preferences of a Ward relate to how Democratic/Republican a Ward is.\n",
    "\n",
    "Write code that accesses the data from the <U> 2012 General Election </U> and create a DataFrame that contains the data table for how many and what percentage of people in each Ward voted for each presidential candidate.\n",
    "\n",
    "<U> Merge the presidential voting dataframe with the data frame we have for mayoral results </U>. Remember the syntax for merging two dataframes is: merge(dataframe1, dataframe2, on=keycolumn)\n",
    "For the merge function, you provide the names of the two dataframe, and the column name that serves as your key for letting the merge function know how to line up the dataframes so everything matches.\n",
    "\n",
    "The end result of your script should be a single pandas dataframe with the presidential results and mayoral results for each ward.\n",
    "\n",
    "\n",
    "\n",
    "\n",
    "\n"
   ]
  },
  {
   "cell_type": "code",
   "execution_count": null,
   "metadata": {
    "collapsed": true
   },
   "outputs": [],
   "source": []
  }
 ],
 "metadata": {
  "kernelspec": {
   "display_name": "Python 2",
   "language": "python",
   "name": "python2"
  },
  "language_info": {
   "codemirror_mode": {
    "name": "ipython",
    "version": 2
   },
   "file_extension": ".py",
   "mimetype": "text/x-python",
   "name": "python",
   "nbconvert_exporter": "python",
   "pygments_lexer": "ipython2",
   "version": "2.7.11"
  }
 },
 "nbformat": 4,
 "nbformat_minor": 0
}
