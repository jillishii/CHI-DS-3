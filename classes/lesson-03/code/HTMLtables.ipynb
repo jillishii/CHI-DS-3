{
 "cells": [
  {
   "cell_type": "markdown",
   "metadata": {},
   "source": [
    "### We're going to cover the basic of scraping a data table from a webpage\n"
   ]
  },
  {
   "cell_type": "markdown",
   "metadata": {},
   "source": [
    "#### Function to parse tables from HTML source code into a python list\n",
    "\n",
    "First, run the following script, which defines a function called \"table_reader\" that receives a webpage's html source code, and finds the table in it, and extracts the elements, saving the elements of each row to a list.\n",
    "\n",
    "The result of the function is a list of lists, with each list containing the entries from a row in the table.\n",
    "\n"
   ]
  },
  {
   "cell_type": "code",
   "execution_count": 1,
   "metadata": {
    "collapsed": true
   },
   "outputs": [],
   "source": [
    "#import the html parser that constructs of tree of tags and what's in them\n",
    "import lxml.html as ET\n",
    "\n",
    "#Let's make a function that reads tables and gets the useful information\n",
    "#content_string is the source code for the page\n",
    "#table_number is which table we should parse if there are multiple tables on the page. \n",
    "#The default value for table_number is 0, meaning retreive the first table\n",
    "def table_reader(source_code,table_number=0):\n",
    "    \n",
    "    #send the page html to the html parser\n",
    "    doc = ET.fromstring(source_code)\n",
    "    \n",
    "    #make an empty list to save our table into\n",
    "    data=[]\n",
    "    \n",
    "    #look in between the tags that say \"table\" and find all of the row elements, which are the <tr> tags \n",
    "    #the table indicates, which table on the page to retreive in case there are many\n",
    "    rows = doc.xpath(\"//table\")[table_number].findall(\"tr\")\n",
    "    \n",
    "    #go through the list of table rows    \n",
    "    for row in rows:\n",
    "        #append to our data all of the data in the cells of the row\n",
    "        data.append([c.text_content() for c in row.getchildren()])\n",
    "    \n",
    "    #return the data list\n",
    "    return data"
   ]
  },
  {
   "cell_type": "markdown",
   "metadata": {},
   "source": [
    "#### Parsing a table from a single webpage\n",
    "\n",
    "Let's try it out on a simple webpage\n",
    "\n",
    "Here is a list of crime rates of major cities across the U.S from Wikipedia\n",
    "\n",
    "We'll send out the request for the page using the requests library"
   ]
  },
  {
   "cell_type": "code",
   "execution_count": 2,
   "metadata": {
    "collapsed": false
   },
   "outputs": [],
   "source": [
    "import requests\n",
    "\n",
    "#provide the url and set a url variable to hold it\n",
    "url = \"https://en.wikipedia.org/wiki/List_of_United_States_cities_by_crime_rate_(2014)\"\n",
    "\n",
    "#send the request\n",
    "content= requests.get(url)\n",
    "\n"
   ]
  },
  {
   "cell_type": "markdown",
   "metadata": {},
   "source": [
    "#### Sending the source code to our table parser\n",
    "\n",
    "Now that we have the source, we can:\n",
    "\n",
    "\n",
    "convert it to a string format\n",
    "\n",
    "remove newline characters\n",
    "\n",
    "pass on the information to our table reader function that will output a data_table"
   ]
  },
  {
   "cell_type": "code",
   "execution_count": 5,
   "metadata": {
    "collapsed": false
   },
   "outputs": [
    {
     "name": "stdout",
     "output_type": "stream",
     "text": [
      "[['State', 'City', 'Population', 'Violent Crime', 'Murder andNonnegligent Manslaughter', 'Rape', 'Robbery', 'Aggravated Assault', 'Property Crime', 'Burglary', 'Larceny-Theft', 'Motor Vehicle Theft', 'Arson'], ['New Mexico', 'Albuquerque', '558,874', '882.8', '5.4', '71.9', '247.1', '558.4', '5,446.1', '1,095.6', '3,713.9', '636.6', '15.4'], ['California', 'Anaheim', '346,956', '317.3', '4.0', '22.8', '120.5', '170.1', '2,362.3', '375.0', '1,619.8', '367.5', '6.6'], ['Alaska', 'Anchorage', '301,306', '864.6', '4.0', '130.1', '164.6', '565.9', '3,827.0', '456.3', '3,059.0', '311.6', '26.9'], ['Texas', 'Arlington', '382,976', '484.1', '3.4', '53.8', '128.7', '298.2', '3,515.1', '644.9', '2,633.6', '236.6', '6.8'], ['Georgia', 'Atlanta', '454,363', '1,227.4', '20.5', '33.2', '512.6', '661.1', '5,747.4', '1,203.9', '3,631.0', '912.5', '16.5'], ['Colorado', 'Aurora', '350,948', '412.6', '3.1', '78.1', '118.8', '212.6', '2,838.6', '517.5', '2,018.0', '303.2', '21.7'], ['Texas', 'Austin', '903,924', '396.2', '3.5', '63.2', '96.6', '232.9', '4,142.4', '634.2', '3,255.0', '253.1', '10.5'], ['California', 'Bakersfield', '367,406', '456.7', '4.6', '5.7', '179.6', '266.7', '3,972.4', '1,106.4', '2,244.7', '621.4', '101.3'], ['Maryland', 'Baltimore', '623,513', '1,338.5', '33.8', '39.3', '589.7', '675.7', '4,718.4', '1,110.8', '2,888.2', '719.5', '34.2'], ['Massachusetts', 'Boston', '654,413', '725.7', '8.1', '42.8', '256.7', '418.1', '2,638.9', '409.5', '1,998.3', '231.0', 'N/A'], ['New York', 'Buffalo', '258,419', '1,228.2', '23.2', '67.3', '494.2', '643.5', '4,817.4', '1,207.0', '3,235.8', '374.6', 'N/A'], ['Arizona', 'Chandler', '252,369', '184.7', '0.4', '23.8', '44.0', '116.5', '2,236.0', '378.0', '1,767.6', '90.3', '38.4'], ['North Carolina', 'Charlotte-Mecklenburg', '856,916', '589.8', '5.5', '24.5', '185.1', '374.7', '3,566.9', '703.8', '2,663.9', '199.2', '19.3'], ['California', 'Chula Vista', '259,894', '235.5', '2.7', '15.4', '82.3', '135.1', '1,740.7', '235.9', '1,189.3', '315.5', '13.5'], ['Illinois', 'Chicago', '2,724,121', '884.3', '15.1', '49.3', '359.9', '460.0', '3,126.2', '533.6', '2,224.6', '367.9', '16.9'], ['Ohio', 'Cincinnati', '297,671', '905.4', '20.2', '76.6', '455.5', '353.1', '5,562.2', '1,619.2', '3,574.1', '368.9', '118.6'], ['Ohio', 'Cleveland', '388,655', '1,334.3', '16.2', '124.0', '769.3', '424.8', '5,434.4', '1,787.7', '2,659.2', '987.5', '78.2'], ['Colorado', 'Colorado Springs', '444,949', '458.3', '4.5', '92.6', '90.8', '270.4', '3,667.6', '620.1', '2,677.6', '369.9', '21.1'], ['Ohio', 'Columbus', '830,811', '549.2', '10.0', '88.8', '252.5', '197.9', '4,253.0', '1,091.2', '2,807.9', '353.9', 'N/A'], ['Texas', 'Corpus Christi', '319,211', '656.0', '8.5', '87.7', '118.1', '441.7', '4,420.3', '725.5', '3,519.0', '175.7', '15.7'], ['Texas', 'Dallas', '1,272,396', '664.7', '9.1', '61.4', '303.1', '291.1', '3,589.2', '918.3', '2,117.2', '553.7', '30.3'], ['Colorado', 'Denver', '665,353', '598.6', '4.7', '67.3', '164.0', '362.7', '3,359.4', '684.6', '2,158.7', '516.1', '20.7'], ['Michigan', 'Detroit', '684,694', '1,988.6', '43.5', '81.4', '521.4', '1,342.4', '4,817.2', '1,340.3', '2,004.3', '1,472.6', '71.6'], ['Texas', 'El Paso', '680,273', '392.6', '3.1', '49.2', '61.0', '279.3', '2,141.8', '232.1', '1,789.0', '120.7', '7.1'], ['Indiana', 'Fort Wayne', '257,172', '317.3', '4.7', '40.4', '134.9', '137.3', '3,247.6', '686.3', '2,419.8', '141.5', '17.5'], ['Texas', 'Fort Worth*', '789,035', '560.2', '6.1', '66.3', '159.2', '328.6', '4,343.5', '1,053.9', '2,985.5', '304.0', '19.6'], ['California', 'Fresno', '513,187', '464.2', '9.2', '10.3', '152.2', '292.5', '4,111.8', '919.9', '2,587.2', '604.7', '50.5'], ['North Carolina', 'Greensboro', '282,203', '477.0', '8.2', '18.4', '172.6', '277.8', '3,600.2', '888.7', '2,522.7', '188.9', '40.4'], ['Nevada', 'Henderson', '274,121', '164.9', '1.1', '32.5', '60.2', '71.1', '1,978.3', '509.6', '1,288.1', '180.6', '10.6'], ['Texas', 'Houston', '2,219,933', '991.4', '10.9', '36.6', '458.8', '485.1', '4,693.7', '974.3', '3,068.8', '650.6', '32.3'], ['Indiana', 'Indianapolis', '858,238', '1,254.7', '15.8', '66.8', '443.7', '728.4', '4,823.1', '1,412.8', '2,806.9', '603.4', '31.6'], ['Florida', 'Jacksonville', '856,021', '683.7', '11.2', '56.0', '165.8', '450.8', '3,940.6', '795.1', '2,914.1', '231.4', '10.7'], ['New Jersey', 'Jersey City', '260,005', '531.1', '9.2', '13.5', '238.5', '270.0', '1,630.7', '341.1', '1,078.4', '211.1', '14.2'], ['Missouri', 'Kansas City', '468,417', '1,251.4', '16.7', '83.3', '346.9', '804.6', '4,835.0', '1,208.1', '2,783.2', '843.7', '46.3'], ['Texas', 'Laredo', '250,994', '388.9', '5.6', '39.4', '78.1', '265.7', '3,859.5', '504.8', '3,244.7', '110.0', '29.9'], ['Nevada', 'Las Vegas', '1,530,899', '841.1', '8.0', '51.0', '319.1', '463.1', '2,923.4', '924.3', '1,530.6', '468.5', '9.2'], ['Kentucky', 'Lexington', '311,848', '333.8', '6.4', '43.0', '177.7', '106.8', '3,891.0', '767.4', '2,827.0', '296.6', '13.8'], ['Nebraska', 'Lincoln', '271,208', '338.5', '2.6', '56.0', '75.6', '204.3', '3,348.7', '481.2', '2,747.7', '119.8', '24.0'], ['California', 'Long Beach', '471,123', '489.0', '4.9', '23.3', '188.7', '272.1', '2,640.1', '739.1', '1,459.3', '441.7', '16.6'], ['California', 'Los Angeles', '3,906,772', '490.7', '6.7', '28.8', '203.5', '251.8', '2,128.1', '385.7', '1,389.4', '352.9', '29.1'], ['Kentucky', 'Louisville Metro', '677,710', '591.0', '8.3', '27.2', '225.9', '329.6', '4,185.3', '946.9', '2,902.3', '336.1', 'N/A'], ['Tennessee', 'Memphis', '654,922', '1,740.5', '21.4', '76.5', '501.6', '1,141.1', '5,988.0', '1,748.5', '3,785.3', '454.3', '53.4'], ['Arizona', 'Mesa', '462,092', '458.6', '2.8', '54.5', '101.5', '299.7', '2,800.3', '510.3', '2,108.7', '181.3', '18.4'], ['Florida', 'Miami', '421,996', '1,060.0', '19.2', '26.1', '424.2', '590.5', '4,832.7', '867.1', '3,439.4', '526.3', '15.6'], ['Wisconsin', 'Milwaukee', '600,374', '1,476.4', '15.0', '65.8', '586.3', '809.3', '4,580.3', '987.6', '2,484.6', '1,108.1', '46.0'], ['Minnesota', 'Minneapolis', '404,461', '1,012.0', '7.7', '96.2', '462.6', '445.5', '4,728.0', '1,016.7', '3,332.8', '378.5', '28.9'], ['Alabama', 'Mobile', '250,655', '593.6', '12.4', '54.3', '170.8', '356.3', '4,629.1', '1,135.8', '3,281.4', '211.8', 'N/A'], ['Tennessee', 'Nashville', '647,689', '1,122.5', '6.3', '75.2', '235.1', '805.8', '3,630.6', '734.3', '2,720.8', '175.5', '15.0'], ['Louisiana', 'New Orleans', '387,113', '973.9', '38.7', '63.0', '379.7', '492.4', '4,231.8', '893.3', '2,663.0', '675.5', 'N/A'], ['New York', 'New York', '8,473,938', '596.7', '3.9', '25.8', '195.7', '371.3', '1,601.9', '187.8', '1,323.0', '91.2', 'N/A'], ['New Jersey', 'Newark', '279,110', '1,077.7', '33.3', '17.6', '688.6', '338.2', '2,851.2', '622.0', '1,365.1', '864.2', '14.0'], ['California', 'Oakland', '409,994', '1,685.4', '19.5', '51.0', '849.0', '765.9', '5,943.3', '977.1', '3,376.1', '1,590.0', '42.9'], ['Oklahoma', 'Oklahoma City', '617,975', '773.8', '7.3', '70.2', '182.2', '514.1', '4,410.9', '1,074.2', '2,768.9', '567.8', '15.5'], ['Nebraska', 'Omaha', '438,465', '560.6', '7.3', '41.1', '164.9', '347.3', '4,345.4', '683.5', '2,944.4', '717.5', '8.4'], ['Florida', 'Orlando', '259,675', '901.1', '5.8', '64.3', '238.8', '592.3', '6,359.9', '1,287.0', '4,691.2', '381.6', '21.2'], ['Pennsylvania', 'Philadelphia', '1,559,062', '1,021.4', '15.9', '77.4', '447.1', '481.1', '3,387.7', '621.8', '2,398.5', '367.4', '25.6'], ['Arizona', 'Phoenix', '1,529,852', '571.9', '7.5', '65.8', '193.0', '305.7', '3,724.3', '935.8', '2,317.9', '470.6', '20.5'], ['Pennsylvania', 'Pittsburgh', '307,613', '798.1', '22.4', '29.6', '320.5', '425.5', '3,212.8', '692.1', '2,326.6', '194.1', '62.4'], ['Texas', 'Plano', '277,822', '165.2', '1.4', '28.8', '56.2', '78.8', '1,974.6', '296.6', '1,572.6', '105.5', '8.3'], ['Oregon', 'Portland', '615,672', '472.8', '4.2', '42.6', '137.6', '288.5', '5,234.8', '673.4', '4,013.0', '548.3', '27.0'], ['North Carolina', 'Raleigh*', '428,993', '392.3', '2.8', '18.4', '141.0', '230.1', '3,063.0', '735.9', '2,162.7', '164.3', '12.6'], ['California', 'Riverside', '319,453', '433.2', '3.8', '44.8', '138.0', '246.7', '3,087.8', '479.3', '2,126.8', '481.8', '27.5'], ['California', 'Sacramento', '482,767', '614.8', '5.8', '16.2', '207.1', '385.7', '3,123.2', '670.7', '1,956.0', '496.5', '35.0'], ['Texas', 'San Antonio', '1,428,465', '539.3', '7.2', '75.4', '124.4', '332.3', '5,417.8', '864.1', '4,053.9', '499.8', '20.9'], ['California', 'San Diego', '1,368,690', '380.9', '2.3', '27.1', '96.3', '255.2', '1,959.0', '373.7', '1,219.5', '365.8', '15.3'], ['California', 'San Francisco', '850,294', '795.1', '5.3', '41.8', '379.2', '368.9', '5,303.2', '615.9', '3,966.9', '720.5', '28.3'], ['California', 'San Jose', '1,009,679', '321.1', '3.2', '30.3', '106.2', '181.4', '2,434.1', '511.7', '1,173.6', '748.8', '12.2'], ['California', 'Santa Ana', '336,462', '374.5', '5.3', '34.2', '134.3', '200.6', '1,719.1', '235.7', '1,095.2', '388.2', '6.2'], ['Washington', 'Seattle', '663,410', '603.1', '3.9', '23.2', '236.2', '339.8', '6,127.3', '1,070.1', '4,226.0', '831.2', '11.9'], ['Missouri', 'St. Louis', '318,574', '1,678.7', '49.9', '87.6', '490.3', '1,050.9', '6,252.6', '1,321.2', '3,912.1', '1,019.2', '59.6'], ['Minnesota', 'St. Paul', '297,984', '662.5', '3.7', '60.7', '219.5', '378.5', '3,484.4', '781.9', '2,028.6', '673.9', '39.9'], ['Florida', 'St. Petersburg', '250,772', '864.9', '7.6', '61.4', '246.8', '549.1', '5,642.6', '1,041.6', '4,043.1', '557.9', '17.5'], ['California', 'Stockton', '299,519', '1,331.5', '16.4', '44.7', '366.6', '903.8', '4,389.7', '1,043.0', '2,698.3', '648.4', '25.4'], ['Florida', 'Tampa', '357,124', '582.4', '7.8', '17.4', '143.9', '413.3', '2,427.7', '509.6', '1,779.5', '138.6', '12.0'], ['Ohio', 'Toledo', '281,150', '1,091.2', '8.5', '82.2', '335.8', '664.8', 'N/A', '1,668.5', 'N/A', '337.5', 'N/A'], ['Arizona', 'Tucson*', '525,486', '640.9', '8.9', '41.1', '190.7', '400.2', '6,581.9', '943.3', '5,221.8', '416.8', '28.7'], ['Oklahoma', 'Tulsa', '399,556', '805.1', '11.5', '78.3', '230.3', '485.0', '5,081.6', '1,376.5', '3,127.0', '578.1', '34.5'], ['Virginia', 'Virginia Beach', '451,102', '146.3', '3.8', '23.7', '55.9', '63.0', '2,174.9', '232.8', '1,861.2', '80.9', '13.3'], ['District of Columbia', 'Washington', '658,893', '1,185.3', '15.9', '71.3', '490.4', '607.7', '5,012.5', '525.6', '3,928.0', '559.0', 'N/A'], ['Kansas', 'Wichita*', '386,486', '793.0', '3.9', '63.1', '121.1', '604.9', '5,382.3', '1,017.6', '3,851.4', '513.3', '29.2']]\n"
     ]
    }
   ],
   "source": [
    "#get the content, in this case, the HTML source code\n",
    "content_string = content.text.encode('utf-8')\n",
    "\n",
    "# we can clean up the source code and remove special characters from it using the re (regular expression) library\n",
    "content_string = content_string.replace(\"\\n\",\"\")\n",
    "\n",
    "#submit the source code to our table reader\n",
    "data_table=table_reader(content_string)\n",
    "\n",
    "print data_table"
   ]
  },
  {
   "cell_type": "markdown",
   "metadata": {},
   "source": [
    "#### Make a pandas DataFrame out of the table data\n",
    "\n",
    "Next, we'll import the data table into pandas similar to how we usually do when importing a list of lists\n",
    "\n",
    "We will create a DataFrame where the first variable is the data within the table(a list of lists containing the values)\n",
    "\n",
    "The second variable is the column information (the first list in our data table variable)"
   ]
  },
  {
   "cell_type": "code",
   "execution_count": 4,
   "metadata": {
    "collapsed": false
   },
   "outputs": [
    {
     "name": "stdout",
     "output_type": "stream",
     "text": [
      "           State         City Population Violent Crime  \\\n",
      "0     New Mexico  Albuquerque    558,874         882.8   \n",
      "1     California      Anaheim    346,956         317.3   \n",
      "2         Alaska    Anchorage    301,306         864.6   \n",
      "3          Texas    Arlington    382,976         484.1   \n",
      "4        Georgia      Atlanta    454,363       1,227.4   \n",
      "5       Colorado       Aurora    350,948         412.6   \n",
      "6          Texas       Austin    903,924         396.2   \n",
      "7     California  Bakersfield    367,406         456.7   \n",
      "8       Maryland    Baltimore    623,513       1,338.5   \n",
      "9  Massachusetts       Boston    654,413         725.7   \n",
      "\n",
      "  Murder andNonnegligent Manslaughter   Rape Robbery Aggravated Assault  \\\n",
      "0                                 5.4   71.9   247.1              558.4   \n",
      "1                                 4.0   22.8   120.5              170.1   \n",
      "2                                 4.0  130.1   164.6              565.9   \n",
      "3                                 3.4   53.8   128.7              298.2   \n",
      "4                                20.5   33.2   512.6              661.1   \n",
      "5                                 3.1   78.1   118.8              212.6   \n",
      "6                                 3.5   63.2    96.6              232.9   \n",
      "7                                 4.6    5.7   179.6              266.7   \n",
      "8                                33.8   39.3   589.7              675.7   \n",
      "9                                 8.1   42.8   256.7              418.1   \n",
      "\n",
      "  Property Crime Burglary Larceny-Theft Motor Vehicle Theft  Arson  \n",
      "0        5,446.1  1,095.6       3,713.9               636.6   15.4  \n",
      "1        2,362.3    375.0       1,619.8               367.5    6.6  \n",
      "2        3,827.0    456.3       3,059.0               311.6   26.9  \n",
      "3        3,515.1    644.9       2,633.6               236.6    6.8  \n",
      "4        5,747.4  1,203.9       3,631.0               912.5   16.5  \n",
      "5        2,838.6    517.5       2,018.0               303.2   21.7  \n",
      "6        4,142.4    634.2       3,255.0               253.1   10.5  \n",
      "7        3,972.4  1,106.4       2,244.7               621.4  101.3  \n",
      "8        4,718.4  1,110.8       2,888.2               719.5   34.2  \n",
      "9        2,638.9    409.5       1,998.3               231.0    N/A  \n"
     ]
    }
   ],
   "source": [
    "import pandas as pd\n",
    "\n",
    "####send the data_table to a pandas data frame\n",
    "\n",
    "### The column information is stored in the first row of data data_table[0]\n",
    "### The actual cell entries are stored in the second row onward data_table[1:]\n",
    "\n",
    "crime_df = pd.DataFrame(data_table[1:], columns=data_table[0])\n",
    "\n",
    "#Let's look at the first ten entries of the U.S. crime dataframe\n",
    "print crime_df.head(10)"
   ]
  },
  {
   "cell_type": "code",
   "execution_count": null,
   "metadata": {
    "collapsed": true
   },
   "outputs": [],
   "source": []
  }
 ],
 "metadata": {
  "kernelspec": {
   "display_name": "Python 2",
   "language": "python",
   "name": "python2"
  },
  "language_info": {
   "codemirror_mode": {
    "name": "ipython",
    "version": 2
   },
   "file_extension": ".py",
   "mimetype": "text/x-python",
   "name": "python",
   "nbconvert_exporter": "python",
   "pygments_lexer": "ipython2",
   "version": "2.7.11"
  }
 },
 "nbformat": 4,
 "nbformat_minor": 0
}
